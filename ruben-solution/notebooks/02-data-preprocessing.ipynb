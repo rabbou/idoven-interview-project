{
 "cells": [
  {
   "cell_type": "markdown",
   "id": "ef2970cc-e686-486e-8a46-4589d4ba1804",
   "metadata": {},
   "source": [
    "# Data Preprocessing"
   ]
  },
  {
   "cell_type": "markdown",
   "id": "803cd8a1-b504-4113-8a90-46e503ebea08",
   "metadata": {},
   "source": [
    "This notebook outlines my approach to feature engineering and ensuring a high-quality dataset for model training. I have chosen to approach this problem as a binary classification task, aiming to build a model that differentiates Normal ECGs from Abnormal ECGs based on labels derived from highly likely and unambiguous SCP codes. The features used are the unprocessed ECG signals, preserving all the information inherent in the signal."
   ]
  },
  {
   "cell_type": "markdown",
   "id": "3101cb06-07f9-461f-a846-26636e3d198f",
   "metadata": {},
   "source": [
    "#### Imports"
   ]
  },
  {
   "cell_type": "code",
   "execution_count": 1,
   "id": "096ace8d-dca4-4ee7-bb2c-51a2f2a4a005",
   "metadata": {},
   "outputs": [],
   "source": [
    "from os.path import join\n",
    "\n",
    "import numpy as np\n",
    "import pandas as pd\n",
    "\n",
    "pd.set_option(\"display.max_columns\", None)"
   ]
  },
  {
   "cell_type": "code",
   "execution_count": 2,
   "id": "9e76c820-d3be-4f8d-9d65-e0dbb6d8822c",
   "metadata": {},
   "outputs": [],
   "source": [
    "data_path = \"../data/\"\n",
    "sampling_rate = 100"
   ]
  },
  {
   "cell_type": "code",
   "execution_count": 3,
   "id": "beb927c7-a72f-4023-a409-d806c721778d",
   "metadata": {},
   "outputs": [
    {
     "name": "stdout",
     "output_type": "stream",
     "text": [
      "Number of ECGs: 18,793; Number of patients: 16,563\n"
     ]
    }
   ],
   "source": [
    "Y = pd.read_csv(join(data_path, \"processed/ecg_metadata.csv\"), index_col=\"ecg_id\")\n",
    "print(f\"Number of ECGs: {Y.shape[0]:,}; Number of patients: {Y.patient_id.nunique():,}\")"
   ]
  },
  {
   "cell_type": "markdown",
   "id": "dc761901-49f3-4719-bc23-a935cfeb8610",
   "metadata": {},
   "source": [
    "#### Problematic ECGs"
   ]
  },
  {
   "cell_type": "markdown",
   "id": "ab52f0ed-0d36-4452-8f78-b044d36193ac",
   "metadata": {},
   "source": [
    "While the presence of extra beats is noteworthy, it does not necessarily indicate an unhealthy heart, particularly in asymptomatic individuals with normal heart structure. For the purpose of this analysis, I have chosen to exclude such ECGs to focus on more indicative cardiac events. Additionally, I have removed ECGs that exhibit recording issues to ensure the quality and reliability of the dataset."
   ]
  },
  {
   "cell_type": "code",
   "execution_count": 4,
   "id": "8d025573-2050-444e-9234-c03af84e658e",
   "metadata": {},
   "outputs": [],
   "source": [
    "# Remove ECGs with problems\n",
    "Y = Y.loc[Y.electrodes_problems.isna()].drop(columns=\"electrodes_problems\")\n",
    "Y = Y.loc[Y.baseline_drift.isna()].drop(columns=\"baseline_drift\")\n",
    "Y = Y.loc[Y.static_noise.isna()].drop(columns=\"static_noise\")\n",
    "Y = Y.loc[Y.burst_noise.isna()].drop(columns=\"burst_noise\")\n",
    "Y = Y.loc[Y.extra_beats.isna()].drop(columns=\"extra_beats\")"
   ]
  },
  {
   "cell_type": "markdown",
   "id": "74d80115-cadf-42ee-98c5-48ad4f8b8eac",
   "metadata": {},
   "source": [
    "Since the presence of a pacemaker can significantly alter a patient’s ECG, including such patients could introduce biases into the analysis. Therefore, I have excluded patients with pacemakers from the dataset. Additionally, I will focus exclusively on patients over 18 years old, as ECG characteristics can differ considerably between children and adults."
   ]
  },
  {
   "cell_type": "code",
   "execution_count": 5,
   "id": "0e761d71-2704-4b21-8b7f-935c36f702fc",
   "metadata": {},
   "outputs": [],
   "source": [
    "Y = Y.loc[Y.pacemaker.isna()].drop(columns=\"pacemaker\")\n",
    "Y = Y.loc[Y.age >= 18.0]"
   ]
  },
  {
   "cell_type": "code",
   "execution_count": 6,
   "id": "19f37566-fef9-4f7b-9134-c113021e4a2f",
   "metadata": {},
   "outputs": [
    {
     "name": "stdout",
     "output_type": "stream",
     "text": [
      "Number of ECGs: 13,245; Number of patients: 12,201\n"
     ]
    }
   ],
   "source": [
    "print(f\"Number of ECGs: {Y.shape[0]:,}; Number of patients: {Y.patient_id.nunique():,}\")"
   ]
  },
  {
   "cell_type": "markdown",
   "id": "91d2f848-a0c1-44ed-af1f-19409f1dcea6",
   "metadata": {},
   "source": [
    "#### Multilabel ECGs"
   ]
  },
  {
   "cell_type": "markdown",
   "id": "a83d324b-600d-4237-88b5-86d9cecd7e34",
   "metadata": {},
   "source": [
    "Many ECGs have a high likelihood for Normal and Abnormal labels. I exclude such ECGs to eliminate ambiguity."
   ]
  },
  {
   "cell_type": "code",
   "execution_count": 7,
   "id": "a534b284-2f84-416b-b7ef-f903fbc9eca3",
   "metadata": {},
   "outputs": [
    {
     "name": "stdout",
     "output_type": "stream",
     "text": [
      "# Ambiguous ECGs: 248\n"
     ]
    }
   ],
   "source": [
    "multilabel_ecgs = Y[\"diagnostic_class\"].str.contains(\"(?=.*\\|)(?=.*NORM)\")\n",
    "Y = Y.loc[~multilabel_ecgs]\n",
    "print(f\"# Ambiguous ECGs: {multilabel_ecgs.sum():,}\")"
   ]
  },
  {
   "cell_type": "code",
   "execution_count": 8,
   "id": "33cdf770-5716-4b15-b4d1-7ae51b49af1f",
   "metadata": {},
   "outputs": [
    {
     "name": "stdout",
     "output_type": "stream",
     "text": [
      "Number of ECGs: 12,997; Number of patients: 11,966\n"
     ]
    }
   ],
   "source": [
    "print(f\"Number of ECGs: {Y.shape[0]:,}; Number of patients: {Y.patient_id.nunique():,}\")"
   ]
  },
  {
   "cell_type": "markdown",
   "id": "79f99294-b897-40f0-9eaa-5943156e8520",
   "metadata": {},
   "source": [
    "#### Normal ECGs with contradicting features"
   ]
  },
  {
   "cell_type": "markdown",
   "id": "487c8c1e-b414-42a7-9a9d-410587960556",
   "metadata": {},
   "source": [
    "I removed normal ECGs that displayed contradicting features, such as infarction signs and abnormal heart axis, as these inconsistencies could compromise the accuracy of the labels."
   ]
  },
  {
   "cell_type": "code",
   "execution_count": 9,
   "id": "70003832-b03e-4219-a920-e9092638b59b",
   "metadata": {},
   "outputs": [
    {
     "name": "stdout",
     "output_type": "stream",
     "text": [
      "# Contradicting ECGs: 248\n"
     ]
    }
   ],
   "source": [
    "problematic_patients = (Y.diagnostic_class == \"NORM\") & (\n",
    "    ~Y[\"heart_axis\"].isin([\"MID\", np.nan]) | ~Y[\"infarction_stadium1\"].isna() | ~Y[\"infarction_stadium2\"].isna()\n",
    ")\n",
    "Y = Y.loc[~problematic_patients]\n",
    "print(f\"# Contradicting ECGs: {multilabel_ecgs.sum():,}\")"
   ]
  },
  {
   "cell_type": "code",
   "execution_count": 10,
   "id": "0bb13ca2-38c0-4ae3-8213-ce00b74b6423",
   "metadata": {},
   "outputs": [
    {
     "name": "stdout",
     "output_type": "stream",
     "text": [
      "Number of ECGs: 12,323; Number of patients: 11,354\n"
     ]
    }
   ],
   "source": [
    "print(f\"Number of ECGs: {Y.shape[0]:,}; Number of patients: {Y.patient_id.nunique():,}\")"
   ]
  },
  {
   "cell_type": "markdown",
   "id": "a982f36c-cfcd-4657-b621-9fe541af1559",
   "metadata": {},
   "source": [
    "#### Data Labeling"
   ]
  },
  {
   "cell_type": "markdown",
   "id": "11b697db-1f24-4f9f-8378-2139c4870e97",
   "metadata": {},
   "source": [
    "Given the time constraints and my focus on a purely ECG-based approach for the model features, I’ve decided not to include age and gender in the initial feature set. However, I will assess the model’s performance across different age and gender subsets to evaluate consistency of the results."
   ]
  },
  {
   "cell_type": "code",
   "execution_count": 11,
   "id": "9d4c8792-d311-4628-8dfc-9c465c9e8e19",
   "metadata": {},
   "outputs": [
    {
     "data": {
      "text/plain": [
       "LABEL\n",
       "1    0.533555\n",
       "0    0.466445\n",
       "Name: proportion, dtype: float64"
      ]
     },
     "execution_count": 11,
     "metadata": {},
     "output_type": "execute_result"
    }
   ],
   "source": [
    "Y[\"LABEL\"] = np.where(Y[\"diagnostic_class\"] == \"NORM\", 0, 1)\n",
    "Y[\"LABEL\"].value_counts(normalize=True)"
   ]
  },
  {
   "cell_type": "markdown",
   "id": "3274d035-1bba-4b6d-a857-02cbb464c807",
   "metadata": {},
   "source": [
    "The labels are fairly balanced, with slightly more ECGs in the abnormal class. Given the minor imbalance, I do not consider this to be a significant issue."
   ]
  },
  {
   "cell_type": "code",
   "execution_count": 12,
   "id": "9a60ba32-b61f-4571-a812-687908130e7c",
   "metadata": {},
   "outputs": [
    {
     "data": {
      "text/html": [
       "<div>\n",
       "<style scoped>\n",
       "    .dataframe tbody tr th:only-of-type {\n",
       "        vertical-align: middle;\n",
       "    }\n",
       "\n",
       "    .dataframe tbody tr th {\n",
       "        vertical-align: top;\n",
       "    }\n",
       "\n",
       "    .dataframe thead th {\n",
       "        text-align: right;\n",
       "    }\n",
       "</style>\n",
       "<table border=\"1\" class=\"dataframe\">\n",
       "  <thead>\n",
       "    <tr style=\"text-align: right;\">\n",
       "      <th></th>\n",
       "      <th>patient_id</th>\n",
       "      <th>age</th>\n",
       "      <th>sex</th>\n",
       "      <th>strat_fold</th>\n",
       "      <th>filename_lr</th>\n",
       "      <th>diagnostic_class</th>\n",
       "      <th>LABEL</th>\n",
       "    </tr>\n",
       "    <tr>\n",
       "      <th>ecg_id</th>\n",
       "      <th></th>\n",
       "      <th></th>\n",
       "      <th></th>\n",
       "      <th></th>\n",
       "      <th></th>\n",
       "      <th></th>\n",
       "      <th></th>\n",
       "    </tr>\n",
       "  </thead>\n",
       "  <tbody>\n",
       "    <tr>\n",
       "      <th>2</th>\n",
       "      <td>13243</td>\n",
       "      <td>19.0</td>\n",
       "      <td>0</td>\n",
       "      <td>2</td>\n",
       "      <td>records100/00000/00002_lr</td>\n",
       "      <td>NORM</td>\n",
       "      <td>0</td>\n",
       "    </tr>\n",
       "    <tr>\n",
       "      <th>3</th>\n",
       "      <td>20372</td>\n",
       "      <td>37.0</td>\n",
       "      <td>1</td>\n",
       "      <td>5</td>\n",
       "      <td>records100/00000/00003_lr</td>\n",
       "      <td>NORM</td>\n",
       "      <td>0</td>\n",
       "    </tr>\n",
       "    <tr>\n",
       "      <th>10</th>\n",
       "      <td>9456</td>\n",
       "      <td>22.0</td>\n",
       "      <td>1</td>\n",
       "      <td>9</td>\n",
       "      <td>records100/00000/00010_lr</td>\n",
       "      <td>NORM</td>\n",
       "      <td>0</td>\n",
       "    </tr>\n",
       "  </tbody>\n",
       "</table>\n",
       "</div>"
      ],
      "text/plain": [
       "        patient_id   age  sex  strat_fold                filename_lr  \\\n",
       "ecg_id                                                                 \n",
       "2            13243  19.0    0           2  records100/00000/00002_lr   \n",
       "3            20372  37.0    1           5  records100/00000/00003_lr   \n",
       "10            9456  22.0    1           9  records100/00000/00010_lr   \n",
       "\n",
       "       diagnostic_class  LABEL  \n",
       "ecg_id                          \n",
       "2                  NORM      0  \n",
       "3                  NORM      0  \n",
       "10                 NORM      0  "
      ]
     },
     "execution_count": 12,
     "metadata": {},
     "output_type": "execute_result"
    }
   ],
   "source": [
    "Y = Y.drop(columns=[\"heart_axis\", \"infarction_stadium1\", \"infarction_stadium2\"])\n",
    "Y.head(3)"
   ]
  },
  {
   "cell_type": "code",
   "execution_count": 13,
   "id": "d9279540-cb8e-479f-8db2-bf10bf79b02a",
   "metadata": {},
   "outputs": [],
   "source": [
    "Y.to_csv(join(data_path, \"processed/labels.csv\"))"
   ]
  }
 ],
 "metadata": {
  "kernelspec": {
   "display_name": "Python 3 (ipykernel)",
   "language": "python",
   "name": "python3"
  },
  "language_info": {
   "codemirror_mode": {
    "name": "ipython",
    "version": 3
   },
   "file_extension": ".py",
   "mimetype": "text/x-python",
   "name": "python",
   "nbconvert_exporter": "python",
   "pygments_lexer": "ipython3",
   "version": "3.9.7"
  }
 },
 "nbformat": 4,
 "nbformat_minor": 5
}
