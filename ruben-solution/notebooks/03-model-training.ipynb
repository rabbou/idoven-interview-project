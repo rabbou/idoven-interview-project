{
 "cells": [
  {
   "cell_type": "markdown",
   "id": "714b3e51-c340-45c1-b917-975ec7cd4532",
   "metadata": {},
   "source": [
    "# Model Training"
   ]
  },
  {
   "cell_type": "markdown",
   "id": "6027e57d-858e-4f38-be50-b19a94709436",
   "metadata": {},
   "source": [
    "In this project, I compared two neural network architectures: a times series CNN and a ResNet for analyzing ECG time series data, with the goal of predicting normal versus abnormal ECGs. The choices I made in selecting and designing these models were informed by my research and experience working in the field of ECG analysis."
   ]
  },
  {
   "cell_type": "code",
   "execution_count": 1,
   "id": "1b0ff0ed-5643-4119-80b5-de33abfbbda6",
   "metadata": {},
   "outputs": [],
   "source": [
    "%load_ext autoreload\n",
    "%autoreload 2"
   ]
  },
  {
   "cell_type": "code",
   "execution_count": 2,
   "id": "1b1ee444-9dec-41d7-aa8a-9f6e5bbd0053",
   "metadata": {},
   "outputs": [],
   "source": [
    "import os\n",
    "\n",
    "os.environ[\"TF_CPP_MIN_LOG_LEVEL\"] = \"3\"\n",
    "\n",
    "import ast\n",
    "import pickle\n",
    "\n",
    "import optuna\n",
    "from tensorflow.keras.callbacks import EarlyStopping\n",
    "\n",
    "from models.resnet import *\n",
    "from models.tscnn import *\n",
    "from utils.data_preprocessing import *\n",
    "from utils.hyperparameter_tuning import *\n",
    "\n",
    "pd.set_option(\"display.max_columns\", None)"
   ]
  },
  {
   "cell_type": "code",
   "execution_count": 3,
   "id": "333c0e52-8d9d-48ce-ada3-9767ea76994d",
   "metadata": {},
   "outputs": [],
   "source": [
    "data_path = \"../data/\"\n",
    "sampling_rate = 100\n",
    "input_shape = (1000, 12)\n",
    "num_classes = 1\n",
    "batch_size = 32\n",
    "epochs = 50"
   ]
  },
  {
   "cell_type": "code",
   "execution_count": 4,
   "id": "e378638d-ab5a-4dfa-84ca-6ea7392978ee",
   "metadata": {},
   "outputs": [],
   "source": [
    "Y = pd.read_csv(join(data_path, \"processed/labels.csv\"))"
   ]
  },
  {
   "cell_type": "markdown",
   "id": "b2bd7d06-6f24-40d0-9f88-81a5223b9e72",
   "metadata": {},
   "source": [
    "For initial experiments, I use 50% of the data to accelerate model training given my limited access to computing resources. Models are trained on a CPU."
   ]
  },
  {
   "cell_type": "markdown",
   "id": "4f587a9f-d84b-4949-90f7-38b7b0a43835",
   "metadata": {},
   "source": [
    "I follow the train/validation/test splitting guidelines from the PTB-XL documentation. This is roughly equivalent to a 80-10-10 split. These folds ensure that records from the same patient remain within the same fold. "
   ]
  },
  {
   "cell_type": "code",
   "execution_count": 5,
   "id": "bcd08d94-5f73-4bc8-ba45-f3ccf1e813b7",
   "metadata": {},
   "outputs": [],
   "source": [
    "window_size = 100\n",
    "step_size = 100\n",
    "sample_size = 0.5\n",
    "\n",
    "train_generator, val_generator, test_generator = create_generators_or_datasets(\n",
    "    y=Y,\n",
    "    window_size=window_size,\n",
    "    step_size=step_size,\n",
    "    batch_size=batch_size,\n",
    "    sample_size=sample_size,\n",
    "    sampling_rate=sampling_rate,\n",
    "    data_path=data_path,\n",
    "    return_generators=True,\n",
    ")\n",
    "\n",
    "X_train, y_train, X_val, y_val, X_test, y_test = create_generators_or_datasets(\n",
    "    y=Y,\n",
    "    window_size=window_size,\n",
    "    step_size=step_size,\n",
    "    batch_size=batch_size,\n",
    "    sample_size=sample_size,\n",
    "    sampling_rate=sampling_rate,\n",
    "    data_path=data_path,\n",
    "    return_generators=False,\n",
    ")"
   ]
  },
  {
   "cell_type": "code",
   "execution_count": 6,
   "id": "5b933f96-5e94-4cb8-8571-cbc264b2e783",
   "metadata": {},
   "outputs": [
    {
     "data": {
      "text/plain": [
       "((4901, 1000, 12), (4901,), (604, 1000, 12), (604,), (656, 1000, 12), (656,))"
      ]
     },
     "execution_count": 6,
     "metadata": {},
     "output_type": "execute_result"
    }
   ],
   "source": [
    "X_train.shape, y_train.shape, X_val.shape, y_val.shape, X_test.shape, y_test.shape"
   ]
  },
  {
   "cell_type": "markdown",
   "id": "09bbce20-457c-4a11-bb6a-4c54a845642a",
   "metadata": {},
   "source": [
    "## Times Series Convolutional Neural Network"
   ]
  },
  {
   "cell_type": "markdown",
   "id": "4c54002a-b94e-464f-bd3e-7c891767493d",
   "metadata": {},
   "source": [
    "I chose this CNN model for its efficiency in real-time ECG analysis. I designed the architecture with convolutional and pooling layers to quickly and effectively extract key features from the data. By using a sliding window approach, I can process segments of the ECG signal independently, allowing the model to capture local patterns over time without needing the entire signal at once. I used `Conv1D` layers because they are well-suited for sequential data like ECG signals. "
   ]
  },
  {
   "cell_type": "code",
   "execution_count": 7,
   "id": "19ce9c89-aa62-4e02-81d0-44dcbe76b55b",
   "metadata": {
    "scrolled": true
   },
   "outputs": [
    {
     "name": "stdout",
     "output_type": "stream",
     "text": [
      "Epoch 1/50\n",
      "\u001b[1m1532/1532\u001b[0m \u001b[32m━━━━━━━━━━━━━━━━━━━━\u001b[0m\u001b[37m\u001b[0m \u001b[1m56s\u001b[0m 35ms/step - accuracy: 0.7507 - auc: 0.8300 - loss: 0.4920 - val_accuracy: 0.8334 - val_auc: 0.9429 - val_loss: 0.3551\n",
      "Epoch 2/50\n",
      "\u001b[1m1532/1532\u001b[0m \u001b[32m━━━━━━━━━━━━━━━━━━━━\u001b[0m\u001b[37m\u001b[0m \u001b[1m58s\u001b[0m 38ms/step - accuracy: 0.8704 - auc: 0.9414 - loss: 0.3090 - val_accuracy: 0.8626 - val_auc: 0.9473 - val_loss: 0.3061\n",
      "Epoch 3/50\n",
      "\u001b[1m1532/1532\u001b[0m \u001b[32m━━━━━━━━━━━━━━━━━━━━\u001b[0m\u001b[37m\u001b[0m \u001b[1m68s\u001b[0m 44ms/step - accuracy: 0.8758 - auc: 0.9467 - loss: 0.2942 - val_accuracy: 0.8515 - val_auc: 0.9428 - val_loss: 0.4016\n",
      "Epoch 4/50\n",
      "\u001b[1m1532/1532\u001b[0m \u001b[32m━━━━━━━━━━━━━━━━━━━━\u001b[0m\u001b[37m\u001b[0m \u001b[1m61s\u001b[0m 40ms/step - accuracy: 0.8900 - auc: 0.9549 - loss: 0.2735 - val_accuracy: 0.8796 - val_auc: 0.9536 - val_loss: 0.2908\n",
      "Epoch 5/50\n",
      "\u001b[1m1532/1532\u001b[0m \u001b[32m━━━━━━━━━━━━━━━━━━━━\u001b[0m\u001b[37m\u001b[0m \u001b[1m52s\u001b[0m 34ms/step - accuracy: 0.8952 - auc: 0.9614 - loss: 0.2503 - val_accuracy: 0.8803 - val_auc: 0.9539 - val_loss: 0.2949\n",
      "Epoch 6/50\n",
      "\u001b[1m1532/1532\u001b[0m \u001b[32m━━━━━━━━━━━━━━━━━━━━\u001b[0m\u001b[37m\u001b[0m \u001b[1m53s\u001b[0m 34ms/step - accuracy: 0.9018 - auc: 0.9642 - loss: 0.2398 - val_accuracy: 0.8810 - val_auc: 0.9552 - val_loss: 0.2853\n",
      "Epoch 7/50\n",
      "\u001b[1m1532/1532\u001b[0m \u001b[32m━━━━━━━━━━━━━━━━━━━━\u001b[0m\u001b[37m\u001b[0m \u001b[1m48s\u001b[0m 31ms/step - accuracy: 0.9101 - auc: 0.9690 - loss: 0.2222 - val_accuracy: 0.8763 - val_auc: 0.9565 - val_loss: 0.3064\n",
      "Epoch 8/50\n",
      "\u001b[1m1532/1532\u001b[0m \u001b[32m━━━━━━━━━━━━━━━━━━━━\u001b[0m\u001b[37m\u001b[0m \u001b[1m64s\u001b[0m 42ms/step - accuracy: 0.9092 - auc: 0.9711 - loss: 0.2150 - val_accuracy: 0.8854 - val_auc: 0.9564 - val_loss: 0.2718\n",
      "Epoch 9/50\n",
      "\u001b[1m1532/1532\u001b[0m \u001b[32m━━━━━━━━━━━━━━━━━━━━\u001b[0m\u001b[37m\u001b[0m \u001b[1m108s\u001b[0m 71ms/step - accuracy: 0.9199 - auc: 0.9761 - loss: 0.1952 - val_accuracy: 0.8889 - val_auc: 0.9539 - val_loss: 0.2962\n",
      "Epoch 10/50\n",
      "\u001b[1m1532/1532\u001b[0m \u001b[32m━━━━━━━━━━━━━━━━━━━━\u001b[0m\u001b[37m\u001b[0m \u001b[1m127s\u001b[0m 83ms/step - accuracy: 0.9270 - auc: 0.9789 - loss: 0.1834 - val_accuracy: 0.8785 - val_auc: 0.9528 - val_loss: 0.2846\n",
      "Epoch 11/50\n",
      "\u001b[1m1532/1532\u001b[0m \u001b[32m━━━━━━━━━━━━━━━━━━━━\u001b[0m\u001b[37m\u001b[0m \u001b[1m138s\u001b[0m 90ms/step - accuracy: 0.9315 - auc: 0.9818 - loss: 0.1713 - val_accuracy: 0.8796 - val_auc: 0.9492 - val_loss: 0.3149\n",
      "Epoch 12/50\n",
      "\u001b[1m1532/1532\u001b[0m \u001b[32m━━━━━━━━━━━━━━━━━━━━\u001b[0m\u001b[37m\u001b[0m \u001b[1m116s\u001b[0m 75ms/step - accuracy: 0.9365 - auc: 0.9842 - loss: 0.1565 - val_accuracy: 0.8816 - val_auc: 0.9506 - val_loss: 0.3002\n",
      "Epoch 13/50\n",
      "\u001b[1m1532/1532\u001b[0m \u001b[32m━━━━━━━━━━━━━━━━━━━━\u001b[0m\u001b[37m\u001b[0m \u001b[1m116s\u001b[0m 76ms/step - accuracy: 0.9428 - auc: 0.9865 - loss: 0.1462 - val_accuracy: 0.8790 - val_auc: 0.9498 - val_loss: 0.3486\n",
      "\n",
      "Validation set Loss: 0.272, Accuracy: 0.904, AUC: 0.964\n"
     ]
    }
   ],
   "source": [
    "early_stopping = EarlyStopping(monitor=\"val_loss\", patience=5, restore_best_weights=True)\n",
    "baseline_cnn = TimeSeriesCNN(\n",
    "    input_shape=input_shape, window_size=window_size, dropout_rate=0.0, l2_reg=0.0, filters=[64, 128, 256]\n",
    ")\n",
    "history = baseline_cnn.train(train_generator, val_generator, epochs=epochs, batch_size=32, callbacks=[early_stopping])\n",
    "\n",
    "loss, accuracy, auc, predictions = evaluate_cnn_performance(baseline_cnn, val_generator, y_val)\n",
    "print(f\"\\nValidation set Loss: {loss:.3f}, Accuracy: {accuracy:.3f}, AUC: {auc:.3f}\")"
   ]
  },
  {
   "cell_type": "markdown",
   "id": "e22a56b2-3146-4e30-a832-a2216342e8af",
   "metadata": {},
   "source": [
    "### Approaching Overfitting"
   ]
  },
  {
   "cell_type": "markdown",
   "id": "f77306b1-775c-4acc-b5be-382a7fc7c303",
   "metadata": {},
   "source": [
    "While the model is performing well, with a validation AUC of 0.964, I have observed significant overfitting, evidenced by a much lower training set loss compared to the validation set loss. The following experiments explore the impact of dropout, L2 regularization, and convolution layer sizes to address this overfitting."
   ]
  },
  {
   "cell_type": "code",
   "execution_count": 8,
   "id": "ccb7cbab-b870-4ad8-a9f3-ee2930b9d86f",
   "metadata": {
    "scrolled": true
   },
   "outputs": [
    {
     "name": "stdout",
     "output_type": "stream",
     "text": [
      "Epoch 1/50\n",
      "\u001b[1m1532/1532\u001b[0m \u001b[32m━━━━━━━━━━━━━━━━━━━━\u001b[0m\u001b[37m\u001b[0m \u001b[1m139s\u001b[0m 86ms/step - accuracy: 0.6986 - auc: 0.7716 - loss: 0.5566 - val_accuracy: 0.8629 - val_auc: 0.9364 - val_loss: 0.3285\n",
      "Epoch 2/50\n",
      "\u001b[1m1532/1532\u001b[0m \u001b[32m━━━━━━━━━━━━━━━━━━━━\u001b[0m\u001b[37m\u001b[0m \u001b[1m80s\u001b[0m 52ms/step - accuracy: 0.8527 - auc: 0.9245 - loss: 0.3448 - val_accuracy: 0.8558 - val_auc: 0.9418 - val_loss: 0.3332\n",
      "Epoch 3/50\n",
      "\u001b[1m1532/1532\u001b[0m \u001b[32m━━━━━━━━━━━━━━━━━━━━\u001b[0m\u001b[37m\u001b[0m \u001b[1m118s\u001b[0m 77ms/step - accuracy: 0.8620 - auc: 0.9358 - loss: 0.3250 - val_accuracy: 0.8536 - val_auc: 0.9473 - val_loss: 0.3298\n",
      "Epoch 4/50\n",
      "\u001b[1m1532/1532\u001b[0m \u001b[32m━━━━━━━━━━━━━━━━━━━━\u001b[0m\u001b[37m\u001b[0m \u001b[1m117s\u001b[0m 76ms/step - accuracy: 0.8756 - auc: 0.9427 - loss: 0.3056 - val_accuracy: 0.8508 - val_auc: 0.9484 - val_loss: 0.3270\n",
      "Epoch 5/50\n",
      "\u001b[1m1532/1532\u001b[0m \u001b[32m━━━━━━━━━━━━━━━━━━━━\u001b[0m\u001b[37m\u001b[0m \u001b[1m239s\u001b[0m 156ms/step - accuracy: 0.8690 - auc: 0.9398 - loss: 0.3118 - val_accuracy: 0.8742 - val_auc: 0.9482 - val_loss: 0.2862\n",
      "Epoch 6/50\n",
      "\u001b[1m1532/1532\u001b[0m \u001b[32m━━━━━━━━━━━━━━━━━━━━\u001b[0m\u001b[37m\u001b[0m \u001b[1m97s\u001b[0m 63ms/step - accuracy: 0.8804 - auc: 0.9451 - loss: 0.2997 - val_accuracy: 0.8793 - val_auc: 0.9514 - val_loss: 0.2793\n",
      "Epoch 7/50\n",
      "\u001b[1m1532/1532\u001b[0m \u001b[32m━━━━━━━━━━━━━━━━━━━━\u001b[0m\u001b[37m\u001b[0m \u001b[1m99s\u001b[0m 65ms/step - accuracy: 0.8798 - auc: 0.9469 - loss: 0.2937 - val_accuracy: 0.8694 - val_auc: 0.9520 - val_loss: 0.3135\n",
      "Epoch 8/50\n",
      "\u001b[1m1532/1532\u001b[0m \u001b[32m━━━━━━━━━━━━━━━━━━━━\u001b[0m\u001b[37m\u001b[0m \u001b[1m64s\u001b[0m 42ms/step - accuracy: 0.8786 - auc: 0.9488 - loss: 0.2908 - val_accuracy: 0.8710 - val_auc: 0.9503 - val_loss: 0.3112\n",
      "Epoch 9/50\n",
      "\u001b[1m1532/1532\u001b[0m \u001b[32m━━━━━━━━━━━━━━━━━━━━\u001b[0m\u001b[37m\u001b[0m \u001b[1m57s\u001b[0m 37ms/step - accuracy: 0.8901 - auc: 0.9555 - loss: 0.2694 - val_accuracy: 0.8507 - val_auc: 0.9524 - val_loss: 0.3292\n",
      "Epoch 10/50\n",
      "\u001b[1m1532/1532\u001b[0m \u001b[32m━━━━━━━━━━━━━━━━━━━━\u001b[0m\u001b[37m\u001b[0m \u001b[1m61s\u001b[0m 40ms/step - accuracy: 0.8892 - auc: 0.9530 - loss: 0.2737 - val_accuracy: 0.8685 - val_auc: 0.9537 - val_loss: 0.3152\n",
      "Epoch 11/50\n",
      "\u001b[1m1532/1532\u001b[0m \u001b[32m━━━━━━━━━━━━━━━━━━━━\u001b[0m\u001b[37m\u001b[0m \u001b[1m58s\u001b[0m 38ms/step - accuracy: 0.8911 - auc: 0.9563 - loss: 0.2658 - val_accuracy: 0.8447 - val_auc: 0.9516 - val_loss: 0.3799\n",
      "\n",
      "Validation set Loss: 0.279, Accuracy: 0.889, AUC: 0.959\n"
     ]
    }
   ],
   "source": [
    "early_stopping = EarlyStopping(monitor=\"val_loss\", patience=5, restore_best_weights=True)\n",
    "cnn = TimeSeriesCNN(\n",
    "    input_shape=input_shape, window_size=window_size, dropout_rate=0.4, l2_reg=0.0, filters=[64, 128, 256]\n",
    ")\n",
    "history = cnn.train(train_generator, val_generator, epochs=epochs, batch_size=32, callbacks=[early_stopping])\n",
    "\n",
    "loss, accuracy, auc, predictions = evaluate_cnn_performance(cnn, val_generator, y_val)\n",
    "print(f\"\\nValidation set Loss: {loss:.3f}, Accuracy: {accuracy:.3f}, AUC: {auc:.3f}\")"
   ]
  },
  {
   "cell_type": "code",
   "execution_count": 9,
   "id": "27a209dd-0312-41ff-a957-c7501d1b4d21",
   "metadata": {
    "scrolled": true
   },
   "outputs": [
    {
     "name": "stdout",
     "output_type": "stream",
     "text": [
      "Epoch 1/50\n",
      "\u001b[1m1532/1532\u001b[0m \u001b[32m━━━━━━━━━━━━━━━━━━━━\u001b[0m\u001b[37m\u001b[0m \u001b[1m52s\u001b[0m 31ms/step - accuracy: 0.7342 - auc: 0.8129 - loss: 0.6618 - val_accuracy: 0.8472 - val_auc: 0.9325 - val_loss: 0.4155\n",
      "Epoch 2/50\n",
      "\u001b[1m1532/1532\u001b[0m \u001b[32m━━━━━━━━━━━━━━━━━━━━\u001b[0m\u001b[37m\u001b[0m \u001b[1m47s\u001b[0m 30ms/step - accuracy: 0.8540 - auc: 0.9255 - loss: 0.4151 - val_accuracy: 0.8609 - val_auc: 0.9397 - val_loss: 0.3941\n",
      "Epoch 3/50\n",
      "\u001b[1m1532/1532\u001b[0m \u001b[32m━━━━━━━━━━━━━━━━━━━━\u001b[0m\u001b[37m\u001b[0m \u001b[1m48s\u001b[0m 31ms/step - accuracy: 0.8539 - auc: 0.9269 - loss: 0.4017 - val_accuracy: 0.8247 - val_auc: 0.9407 - val_loss: 0.4368\n",
      "Epoch 4/50\n",
      "\u001b[1m1532/1532\u001b[0m \u001b[32m━━━━━━━━━━━━━━━━━━━━\u001b[0m\u001b[37m\u001b[0m \u001b[1m53s\u001b[0m 35ms/step - accuracy: 0.8613 - auc: 0.9320 - loss: 0.3846 - val_accuracy: 0.8654 - val_auc: 0.9432 - val_loss: 0.3568\n",
      "Epoch 5/50\n",
      "\u001b[1m1532/1532\u001b[0m \u001b[32m━━━━━━━━━━━━━━━━━━━━\u001b[0m\u001b[37m\u001b[0m \u001b[1m57s\u001b[0m 37ms/step - accuracy: 0.8747 - auc: 0.9397 - loss: 0.3650 - val_accuracy: 0.8694 - val_auc: 0.9451 - val_loss: 0.3492\n",
      "Epoch 6/50\n",
      "\u001b[1m1532/1532\u001b[0m \u001b[32m━━━━━━━━━━━━━━━━━━━━\u001b[0m\u001b[37m\u001b[0m \u001b[1m54s\u001b[0m 35ms/step - accuracy: 0.8770 - auc: 0.9436 - loss: 0.3499 - val_accuracy: 0.8644 - val_auc: 0.9441 - val_loss: 0.3692\n",
      "Epoch 7/50\n",
      "\u001b[1m1532/1532\u001b[0m \u001b[32m━━━━━━━━━━━━━━━━━━━━\u001b[0m\u001b[37m\u001b[0m \u001b[1m48s\u001b[0m 31ms/step - accuracy: 0.8771 - auc: 0.9438 - loss: 0.3485 - val_accuracy: 0.8705 - val_auc: 0.9489 - val_loss: 0.3448\n",
      "Epoch 8/50\n",
      "\u001b[1m1532/1532\u001b[0m \u001b[32m━━━━━━━━━━━━━━━━━━━━\u001b[0m\u001b[37m\u001b[0m \u001b[1m45s\u001b[0m 30ms/step - accuracy: 0.8755 - auc: 0.9450 - loss: 0.3467 - val_accuracy: 0.8732 - val_auc: 0.9475 - val_loss: 0.3378\n",
      "Epoch 9/50\n",
      "\u001b[1m1532/1532\u001b[0m \u001b[32m━━━━━━━━━━━━━━━━━━━━\u001b[0m\u001b[37m\u001b[0m \u001b[1m47s\u001b[0m 31ms/step - accuracy: 0.8755 - auc: 0.9450 - loss: 0.3445 - val_accuracy: 0.8685 - val_auc: 0.9462 - val_loss: 0.3426\n",
      "Epoch 10/50\n",
      "\u001b[1m1532/1532\u001b[0m \u001b[32m━━━━━━━━━━━━━━━━━━━━\u001b[0m\u001b[37m\u001b[0m \u001b[1m50s\u001b[0m 33ms/step - accuracy: 0.8835 - auc: 0.9462 - loss: 0.3379 - val_accuracy: 0.8697 - val_auc: 0.9481 - val_loss: 0.3404\n",
      "Epoch 11/50\n",
      "\u001b[1m1532/1532\u001b[0m \u001b[32m━━━━━━━━━━━━━━━━━━━━\u001b[0m\u001b[37m\u001b[0m \u001b[1m50s\u001b[0m 33ms/step - accuracy: 0.8850 - auc: 0.9485 - loss: 0.3312 - val_accuracy: 0.8758 - val_auc: 0.9480 - val_loss: 0.3375\n",
      "Epoch 12/50\n",
      "\u001b[1m1532/1532\u001b[0m \u001b[32m━━━━━━━━━━━━━━━━━━━━\u001b[0m\u001b[37m\u001b[0m \u001b[1m62s\u001b[0m 41ms/step - accuracy: 0.8823 - auc: 0.9480 - loss: 0.3332 - val_accuracy: 0.8735 - val_auc: 0.9497 - val_loss: 0.3367\n",
      "Epoch 13/50\n",
      "\u001b[1m1532/1532\u001b[0m \u001b[32m━━━━━━━━━━━━━━━━━━━━\u001b[0m\u001b[37m\u001b[0m \u001b[1m54s\u001b[0m 35ms/step - accuracy: 0.8800 - auc: 0.9483 - loss: 0.3318 - val_accuracy: 0.8724 - val_auc: 0.9449 - val_loss: 0.3446\n",
      "Epoch 14/50\n",
      "\u001b[1m1532/1532\u001b[0m \u001b[32m━━━━━━━━━━━━━━━━━━━━\u001b[0m\u001b[37m\u001b[0m \u001b[1m51s\u001b[0m 33ms/step - accuracy: 0.8819 - auc: 0.9473 - loss: 0.3349 - val_accuracy: 0.8700 - val_auc: 0.9477 - val_loss: 0.3435\n",
      "Epoch 15/50\n",
      "\u001b[1m1532/1532\u001b[0m \u001b[32m━━━━━━━━━━━━━━━━━━━━\u001b[0m\u001b[37m\u001b[0m \u001b[1m61s\u001b[0m 40ms/step - accuracy: 0.8823 - auc: 0.9503 - loss: 0.3274 - val_accuracy: 0.8727 - val_auc: 0.9489 - val_loss: 0.3339\n",
      "Epoch 16/50\n",
      "\u001b[1m1532/1532\u001b[0m \u001b[32m━━━━━━━━━━━━━━━━━━━━\u001b[0m\u001b[37m\u001b[0m \u001b[1m56s\u001b[0m 36ms/step - accuracy: 0.8892 - auc: 0.9538 - loss: 0.3158 - val_accuracy: 0.8728 - val_auc: 0.9483 - val_loss: 0.3400\n",
      "Epoch 17/50\n",
      "\u001b[1m1532/1532\u001b[0m \u001b[32m━━━━━━━━━━━━━━━━━━━━\u001b[0m\u001b[37m\u001b[0m \u001b[1m51s\u001b[0m 33ms/step - accuracy: 0.8840 - auc: 0.9502 - loss: 0.3257 - val_accuracy: 0.8767 - val_auc: 0.9506 - val_loss: 0.3277\n",
      "Epoch 18/50\n",
      "\u001b[1m1532/1532\u001b[0m \u001b[32m━━━━━━━━━━━━━━━━━━━━\u001b[0m\u001b[37m\u001b[0m \u001b[1m60s\u001b[0m 39ms/step - accuracy: 0.8810 - auc: 0.9490 - loss: 0.3284 - val_accuracy: 0.8707 - val_auc: 0.9476 - val_loss: 0.3412\n",
      "Epoch 19/50\n",
      "\u001b[1m1532/1532\u001b[0m \u001b[32m━━━━━━━━━━━━━━━━━━━━\u001b[0m\u001b[37m\u001b[0m \u001b[1m55s\u001b[0m 36ms/step - accuracy: 0.8886 - auc: 0.9537 - loss: 0.3162 - val_accuracy: 0.8717 - val_auc: 0.9472 - val_loss: 0.3464\n",
      "Epoch 20/50\n",
      "\u001b[1m1532/1532\u001b[0m \u001b[32m━━━━━━━━━━━━━━━━━━━━\u001b[0m\u001b[37m\u001b[0m \u001b[1m48s\u001b[0m 31ms/step - accuracy: 0.8908 - auc: 0.9541 - loss: 0.3129 - val_accuracy: 0.8780 - val_auc: 0.9507 - val_loss: 0.3274\n",
      "Epoch 21/50\n",
      "\u001b[1m1532/1532\u001b[0m \u001b[32m━━━━━━━━━━━━━━━━━━━━\u001b[0m\u001b[37m\u001b[0m \u001b[1m46s\u001b[0m 30ms/step - accuracy: 0.8826 - auc: 0.9471 - loss: 0.3331 - val_accuracy: 0.8624 - val_auc: 0.9503 - val_loss: 0.3654\n",
      "Epoch 22/50\n",
      "\u001b[1m1532/1532\u001b[0m \u001b[32m━━━━━━━━━━━━━━━━━━━━\u001b[0m\u001b[37m\u001b[0m \u001b[1m47s\u001b[0m 31ms/step - accuracy: 0.8886 - auc: 0.9522 - loss: 0.3171 - val_accuracy: 0.8758 - val_auc: 0.9506 - val_loss: 0.3302\n",
      "Epoch 23/50\n",
      "\u001b[1m1532/1532\u001b[0m \u001b[32m━━━━━━━━━━━━━━━━━━━━\u001b[0m\u001b[37m\u001b[0m \u001b[1m53s\u001b[0m 34ms/step - accuracy: 0.8896 - auc: 0.9537 - loss: 0.3138 - val_accuracy: 0.8798 - val_auc: 0.9499 - val_loss: 0.3323\n",
      "Epoch 24/50\n",
      "\u001b[1m1532/1532\u001b[0m \u001b[32m━━━━━━━━━━━━━━━━━━━━\u001b[0m\u001b[37m\u001b[0m \u001b[1m56s\u001b[0m 37ms/step - accuracy: 0.8851 - auc: 0.9515 - loss: 0.3219 - val_accuracy: 0.8765 - val_auc: 0.9512 - val_loss: 0.3419\n",
      "Epoch 25/50\n",
      "\u001b[1m1532/1532\u001b[0m \u001b[32m━━━━━━━━━━━━━━━━━━━━\u001b[0m\u001b[37m\u001b[0m \u001b[1m47s\u001b[0m 31ms/step - accuracy: 0.8891 - auc: 0.9553 - loss: 0.3118 - val_accuracy: 0.8727 - val_auc: 0.9500 - val_loss: 0.3376\n",
      "\n",
      "Validation set Loss: 0.327, Accuracy: 0.891, AUC: 0.961\n"
     ]
    }
   ],
   "source": [
    "early_stopping = EarlyStopping(monitor=\"val_loss\", patience=5, restore_best_weights=True)\n",
    "cnn = TimeSeriesCNN(\n",
    "    input_shape=input_shape, window_size=window_size, dropout_rate=0.0, l2_reg=0.001, filters=[64, 128, 256]\n",
    ")\n",
    "history = cnn.train(train_generator, val_generator, epochs=epochs, batch_size=32, callbacks=[early_stopping])\n",
    "\n",
    "loss, accuracy, auc, predictions = evaluate_cnn_performance(cnn, val_generator, y_val)\n",
    "print(f\"\\nValidation set Loss: {loss:.3f}, Accuracy: {accuracy:.3f}, AUC: {auc:.3f}\")"
   ]
  },
  {
   "cell_type": "code",
   "execution_count": 10,
   "id": "931e8102-fcaf-470e-b25d-756250353991",
   "metadata": {
    "scrolled": true
   },
   "outputs": [
    {
     "name": "stdout",
     "output_type": "stream",
     "text": [
      "Epoch 1/50\n",
      "\u001b[1m1532/1532\u001b[0m \u001b[32m━━━━━━━━━━━━━━━━━━━━\u001b[0m\u001b[37m\u001b[0m \u001b[1m24s\u001b[0m 14ms/step - accuracy: 0.7509 - auc: 0.8326 - loss: 0.4891 - val_accuracy: 0.8563 - val_auc: 0.9422 - val_loss: 0.3155\n",
      "Epoch 2/50\n",
      "\u001b[1m1532/1532\u001b[0m \u001b[32m━━━━━━━━━━━━━━━━━━━━\u001b[0m\u001b[37m\u001b[0m \u001b[1m23s\u001b[0m 15ms/step - accuracy: 0.8661 - auc: 0.9388 - loss: 0.3165 - val_accuracy: 0.8551 - val_auc: 0.9433 - val_loss: 0.3169\n",
      "Epoch 3/50\n",
      "\u001b[1m1532/1532\u001b[0m \u001b[32m━━━━━━━━━━━━━━━━━━━━\u001b[0m\u001b[37m\u001b[0m \u001b[1m30s\u001b[0m 20ms/step - accuracy: 0.8782 - auc: 0.9437 - loss: 0.3023 - val_accuracy: 0.8722 - val_auc: 0.9505 - val_loss: 0.2873\n",
      "Epoch 4/50\n",
      "\u001b[1m1532/1532\u001b[0m \u001b[32m━━━━━━━━━━━━━━━━━━━━\u001b[0m\u001b[37m\u001b[0m \u001b[1m29s\u001b[0m 19ms/step - accuracy: 0.8876 - auc: 0.9514 - loss: 0.2768 - val_accuracy: 0.8816 - val_auc: 0.9534 - val_loss: 0.2745\n",
      "Epoch 5/50\n",
      "\u001b[1m1532/1532\u001b[0m \u001b[32m━━━━━━━━━━━━━━━━━━━━\u001b[0m\u001b[37m\u001b[0m \u001b[1m32s\u001b[0m 21ms/step - accuracy: 0.8917 - auc: 0.9577 - loss: 0.2587 - val_accuracy: 0.8823 - val_auc: 0.9549 - val_loss: 0.2737\n",
      "Epoch 6/50\n",
      "\u001b[1m1532/1532\u001b[0m \u001b[32m━━━━━━━━━━━━━━━━━━━━\u001b[0m\u001b[37m\u001b[0m \u001b[1m30s\u001b[0m 19ms/step - accuracy: 0.9002 - auc: 0.9632 - loss: 0.2423 - val_accuracy: 0.8747 - val_auc: 0.9543 - val_loss: 0.3059\n",
      "Epoch 7/50\n",
      "\u001b[1m1532/1532\u001b[0m \u001b[32m━━━━━━━━━━━━━━━━━━━━\u001b[0m\u001b[37m\u001b[0m \u001b[1m28s\u001b[0m 19ms/step - accuracy: 0.9050 - auc: 0.9643 - loss: 0.2378 - val_accuracy: 0.8851 - val_auc: 0.9555 - val_loss: 0.2758\n",
      "Epoch 8/50\n",
      "\u001b[1m1532/1532\u001b[0m \u001b[32m━━━━━━━━━━━━━━━━━━━━\u001b[0m\u001b[37m\u001b[0m \u001b[1m23s\u001b[0m 15ms/step - accuracy: 0.9078 - auc: 0.9679 - loss: 0.2261 - val_accuracy: 0.8806 - val_auc: 0.9540 - val_loss: 0.2770\n",
      "Epoch 9/50\n",
      "\u001b[1m1532/1532\u001b[0m \u001b[32m━━━━━━━━━━━━━━━━━━━━\u001b[0m\u001b[37m\u001b[0m \u001b[1m27s\u001b[0m 17ms/step - accuracy: 0.9189 - auc: 0.9730 - loss: 0.2045 - val_accuracy: 0.8805 - val_auc: 0.9531 - val_loss: 0.2969\n",
      "Epoch 10/50\n",
      "\u001b[1m1532/1532\u001b[0m \u001b[32m━━━━━━━━━━━━━━━━━━━━\u001b[0m\u001b[37m\u001b[0m \u001b[1m24s\u001b[0m 16ms/step - accuracy: 0.9157 - auc: 0.9738 - loss: 0.2027 - val_accuracy: 0.8790 - val_auc: 0.9523 - val_loss: 0.2955\n",
      "\n",
      "Validation set Loss: 0.274, Accuracy: 0.896, AUC: 0.963\n"
     ]
    }
   ],
   "source": [
    "early_stopping = EarlyStopping(monitor=\"val_loss\", patience=5, restore_best_weights=True)\n",
    "cnn = TimeSeriesCNN(\n",
    "    input_shape=input_shape, window_size=window_size, dropout_rate=0.0, l2_reg=0.0, filters=[32, 64, 128]\n",
    ")\n",
    "history = cnn.train(train_generator, val_generator, epochs=epochs, batch_size=32, callbacks=[early_stopping])\n",
    "\n",
    "loss, accuracy, auc, predictions = evaluate_cnn_performance(cnn, val_generator, y_val)\n",
    "print(f\"\\nValidation set Loss: {loss:.3f}, Accuracy: {accuracy:.3f}, AUC: {auc:.3f}\")"
   ]
  },
  {
   "cell_type": "markdown",
   "id": "55f0d7d3-ec93-4bac-8dfc-a551a57cca35",
   "metadata": {},
   "source": [
    "### Hyperparameter tuning"
   ]
  },
  {
   "cell_type": "markdown",
   "id": "36d5e298-1bde-42d6-b537-33d74166ae48",
   "metadata": {},
   "source": [
    "Reducing model complexity through filter sizes does not seem to improve overfitting or model performance. However, while dropout and regularization have a positive impact on overfitting, the model performs worse on the validation set loss than our baseline. I will tune these parameters along with window size and step size using Optuna. Optuna's adaptive search capabilities allow for effective exploration of the hyperparameter space. For efficiency, I use 25% of the data."
   ]
  },
  {
   "cell_type": "code",
   "execution_count": 11,
   "id": "d9950167-2264-4248-9861-2bba22bffa84",
   "metadata": {
    "scrolled": true
   },
   "outputs": [
    {
     "name": "stderr",
     "output_type": "stream",
     "text": [
      "[I 2024-08-27 10:10:42,173] A new study created in memory with name: no-name-f1999ddd-e8d1-4f17-871f-cf7e9c9304bb\n",
      "[I 2024-08-27 10:15:44,505] Trial 0 finished with value: 0.3307325839996338 and parameters: {'window_size': 191, 'step_size': 165, 'l2_reg': 9.159969462271967e-09, 'dropout_rate': 0.3496380249038563}. Best is trial 0 with value: 0.3307325839996338.\n",
      "[I 2024-08-27 10:25:46,619] Trial 1 finished with value: 0.253520667552948 and parameters: {'window_size': 96, 'step_size': 56, 'l2_reg': 5.609971398816462e-07, 'dropout_rate': 0.3284531233399967}. Best is trial 1 with value: 0.253520667552948.\n",
      "[I 2024-08-27 10:29:38,111] Trial 2 finished with value: 0.27166062593460083 and parameters: {'window_size': 96, 'step_size': 77, 'l2_reg': 4.515053448565958e-09, 'dropout_rate': 0.2956701707108168}. Best is trial 1 with value: 0.253520667552948.\n",
      "[I 2024-08-27 10:40:15,140] Trial 3 finished with value: 0.27635514736175537 and parameters: {'window_size': 178, 'step_size': 74, 'l2_reg': 1.6883155511961273e-06, 'dropout_rate': 0.34532822161819926}. Best is trial 1 with value: 0.253520667552948.\n",
      "[I 2024-08-27 10:56:09,947] Trial 4 finished with value: 0.2881554663181305 and parameters: {'window_size': 147, 'step_size': 38, 'l2_reg': 4.7778580526888115e-08, 'dropout_rate': 0.10295132890433883}. Best is trial 1 with value: 0.253520667552948.\n",
      "[I 2024-08-27 11:04:16,259] Trial 5 finished with value: 0.27512556314468384 and parameters: {'window_size': 134, 'step_size': 47, 'l2_reg': 2.226835185552366e-08, 'dropout_rate': 0.034671188076624115}. Best is trial 1 with value: 0.253520667552948.\n",
      "[I 2024-08-27 11:08:14,460] Trial 6 finished with value: 0.2901320159435272 and parameters: {'window_size': 190, 'step_size': 176, 'l2_reg': 2.8164209418739096e-09, 'dropout_rate': 0.32608683874165956}. Best is trial 1 with value: 0.253520667552948.\n",
      "[I 2024-08-27 11:11:49,678] Trial 7 finished with value: 0.25873324275016785 and parameters: {'window_size': 151, 'step_size': 120, 'l2_reg': 1.3483049591195485e-09, 'dropout_rate': 0.3360082738208757}. Best is trial 1 with value: 0.253520667552948.\n",
      "[I 2024-08-27 11:20:04,682] Trial 8 finished with value: 0.24977916479110718 and parameters: {'window_size': 196, 'step_size': 75, 'l2_reg': 3.6206124274583214e-11, 'dropout_rate': 0.43035840459539587}. Best is trial 8 with value: 0.24977916479110718.\n",
      "[I 2024-08-27 11:30:57,217] Trial 9 finished with value: 0.2634241282939911 and parameters: {'window_size': 188, 'step_size': 84, 'l2_reg': 3.436137384796619e-08, 'dropout_rate': 0.30122415492202137}. Best is trial 8 with value: 0.24977916479110718.\n",
      "[I 2024-08-27 12:04:43,176] Trial 10 finished with value: 0.3670230209827423 and parameters: {'window_size': 60, 'step_size': 10, 'l2_reg': 1.372551401467255e-12, 'dropout_rate': 0.4915348783436427}. Best is trial 8 with value: 0.24977916479110718.\n",
      "[I 2024-08-27 12:10:29,657] Trial 11 finished with value: 0.32630836963653564 and parameters: {'window_size': 99, 'step_size': 60, 'l2_reg': 8.982328874621064e-05, 'dropout_rate': 0.47146670056036366}. Best is trial 8 with value: 0.24977916479110718.\n",
      "[I 2024-08-27 12:19:25,251] Trial 12 finished with value: 0.3011062443256378 and parameters: {'window_size': 100, 'step_size': 62, 'l2_reg': 1.9730735044550064e-11, 'dropout_rate': 0.20553946261589795}. Best is trial 8 with value: 0.24977916479110718.\n",
      "[I 2024-08-27 12:27:45,903] Trial 13 finished with value: 0.3827795386314392 and parameters: {'window_size': 53, 'step_size': 18, 'l2_reg': 3.2543221471791575e-06, 'dropout_rate': 0.42963137425248743}. Best is trial 8 with value: 0.24977916479110718.\n",
      "[I 2024-08-27 12:34:54,171] Trial 14 finished with value: 0.29134759306907654 and parameters: {'window_size': 76, 'step_size': 51, 'l2_reg': 8.855612312063551e-11, 'dropout_rate': 0.4138120358612248}. Best is trial 8 with value: 0.24977916479110718.\n",
      "[I 2024-08-27 12:42:04,319] Trial 15 finished with value: 0.28909891843795776 and parameters: {'window_size': 164, 'step_size': 107, 'l2_reg': 1.470943744091721e-06, 'dropout_rate': 0.18868974281950024}. Best is trial 8 with value: 0.24977916479110718.\n",
      "[I 2024-08-27 12:50:15,293] Trial 16 finished with value: 0.32794585824012756 and parameters: {'window_size': 120, 'step_size': 95, 'l2_reg': 0.0007308424915242517, 'dropout_rate': 0.41236768746440344}. Best is trial 8 with value: 0.24977916479110718.\n",
      "[I 2024-08-27 13:06:26,014] Trial 17 finished with value: 0.25718769431114197 and parameters: {'window_size': 115, 'step_size': 30, 'l2_reg': 1.1254071261066058e-12, 'dropout_rate': 0.2406023121072139}. Best is trial 8 with value: 0.24977916479110718.\n",
      "[I 2024-08-27 13:11:57,982] Trial 18 finished with value: 0.34317925572395325 and parameters: {'window_size': 70, 'step_size': 54, 'l2_reg': 2.4904150745511236e-07, 'dropout_rate': 0.38923078924290977}. Best is trial 8 with value: 0.24977916479110718.\n",
      "[I 2024-08-27 13:16:00,941] Trial 19 finished with value: 0.30860385298728943 and parameters: {'window_size': 79, 'step_size': 62, 'l2_reg': 2.594042987431691e-10, 'dropout_rate': 0.2604250743962534}. Best is trial 8 with value: 0.24977916479110718.\n",
      "[I 2024-08-27 13:20:33,329] Trial 20 finished with value: 0.30430883169174194 and parameters: {'window_size': 130, 'step_size': 90, 'l2_reg': 2.5386937228572227e-05, 'dropout_rate': 0.16577839422933516}. Best is trial 8 with value: 0.24977916479110718.\n",
      "[I 2024-08-27 13:36:50,758] Trial 21 finished with value: 0.26282960176467896 and parameters: {'window_size': 113, 'step_size': 33, 'l2_reg': 1.3153399775782122e-12, 'dropout_rate': 0.24639679983822116}. Best is trial 8 with value: 0.24977916479110718.\n",
      "[I 2024-08-27 13:53:29,011] Trial 22 finished with value: 0.2855621874332428 and parameters: {'window_size': 110, 'step_size': 30, 'l2_reg': 2.0913379928721383e-11, 'dropout_rate': 0.25450168106122417}. Best is trial 8 with value: 0.24977916479110718.\n",
      "[I 2024-08-27 14:07:05,706] Trial 23 finished with value: 0.29714035987854004 and parameters: {'window_size': 84, 'step_size': 39, 'l2_reg': 5.146361921007855e-12, 'dropout_rate': 0.1253709490360865}. Best is trial 8 with value: 0.24977916479110718.\n",
      "[I 2024-08-27 14:25:00,936] Trial 24 finished with value: 0.2606784999370575 and parameters: {'window_size': 144, 'step_size': 21, 'l2_reg': 5.178443375735198e-10, 'dropout_rate': 0.45613630707502784}. Best is trial 8 with value: 0.24977916479110718.\n",
      "[I 2024-08-27 14:29:27,477] Trial 25 finished with value: 0.3182644248008728 and parameters: {'window_size': 163, 'step_size': 130, 'l2_reg': 4.384182192194628e-11, 'dropout_rate': 0.37452403967839615}. Best is trial 8 with value: 0.24977916479110718.\n",
      "[I 2024-08-27 14:34:47,523] Trial 26 finished with value: 0.2883239984512329 and parameters: {'window_size': 91, 'step_size': 68, 'l2_reg': 5.684193645458154e-12, 'dropout_rate': 0.2832969085271087}. Best is trial 8 with value: 0.24977916479110718.\n",
      "[I 2024-08-27 14:37:53,027] Trial 27 finished with value: 0.2687927782535553 and parameters: {'window_size': 200, 'step_size': 152, 'l2_reg': 1.9122972862614355e-07, 'dropout_rate': 0.2300209276012381}. Best is trial 8 with value: 0.24977916479110718.\n",
      "[I 2024-08-27 14:45:26,241] Trial 28 finished with value: 0.2583532929420471 and parameters: {'window_size': 113, 'step_size': 45, 'l2_reg': 7.421740212283889e-12, 'dropout_rate': 0.3788239003041082}. Best is trial 8 with value: 0.24977916479110718.\n",
      "[I 2024-08-27 14:50:03,004] Trial 29 finished with value: 0.28074881434440613 and parameters: {'window_size': 124, 'step_size': 72, 'l2_reg': 4.1545192594206467e-10, 'dropout_rate': 0.15537891391862502}. Best is trial 8 with value: 0.24977916479110718.\n",
      "[I 2024-08-27 14:54:44,296] Trial 30 finished with value: 0.2920912206172943 and parameters: {'window_size': 138, 'step_size': 100, 'l2_reg': 9.899001788393014e-11, 'dropout_rate': 0.4483770858684955}. Best is trial 8 with value: 0.24977916479110718.\n",
      "[I 2024-08-27 15:05:28,737] Trial 31 finished with value: 0.2715526819229126 and parameters: {'window_size': 108, 'step_size': 45, 'l2_reg': 4.727410090771915e-12, 'dropout_rate': 0.37437522113887967}. Best is trial 8 with value: 0.24977916479110718.\n",
      "[I 2024-08-27 15:13:48,597] Trial 32 finished with value: 0.2999795377254486 and parameters: {'window_size': 89, 'step_size': 56, 'l2_reg': 7.245382395900272e-12, 'dropout_rate': 0.3125579324885738}. Best is trial 8 with value: 0.24977916479110718.\n"
     ]
    },
    {
     "name": "stdout",
     "output_type": "stream",
     "text": [
      "Best trial: 0.24977916479110718\n",
      "Best window_size: 196\n",
      "Best step_size: 75\n",
      "Best dropout_rate: 0.43035840459539587\n",
      "Best l2_reg: 3.6206124274583214e-11\n"
     ]
    }
   ],
   "source": [
    "# Lambda function to pass additional parameters\n",
    "\n",
    "study = optuna.create_study(direction=\"minimize\")\n",
    "study.optimize(\n",
    "    lambda trial: objective(\n",
    "        trial,\n",
    "        objective_metric=\"val_loss\",\n",
    "        input_shape=input_shape,\n",
    "        Y=Y,\n",
    "        sampling_rate=sampling_rate,\n",
    "        sample_size=0.25,\n",
    "        data_path=data_path,\n",
    "        batch_size=batch_size,\n",
    "        num_classes=num_classes,\n",
    "        model_class=TimeSeriesCNN,\n",
    "        filters=[64, 128, 256],\n",
    "        epochs=epochs,\n",
    "    ),\n",
    "    n_trials=200,\n",
    "    timeout=60 * 60 * 5,\n",
    ")\n",
    "\n",
    "\n",
    "print(f\"Best trial: {study.best_trial.value}\")\n",
    "print(f\"Best window_size: {study.best_trial.params['window_size']}\")\n",
    "print(f\"Best step_size: {study.best_trial.params['step_size']}\")\n",
    "print(f\"Best dropout_rate: {study.best_trial.params['dropout_rate']}\")\n",
    "print(f\"Best l2_reg: {study.best_trial.params['l2_reg']}\")"
   ]
  },
  {
   "cell_type": "code",
   "execution_count": 12,
   "id": "c0b7aa4b-2ad9-4a8d-84ce-49e892d65b07",
   "metadata": {},
   "outputs": [],
   "source": [
    "with open(\"../reports/tscnn_hyperparameter_study.pkl\", \"wb\") as f:\n",
    "    pickle.dump(study, f)"
   ]
  },
  {
   "cell_type": "markdown",
   "id": "9dfbb5ab-6535-41d6-add9-138a06c74a6f",
   "metadata": {},
   "source": [
    "### Final Model \n",
    "Let's train the optimal model on all of the data."
   ]
  },
  {
   "cell_type": "code",
   "execution_count": 13,
   "id": "62a92511-c3d2-4fc5-b62d-39ec3a2247f3",
   "metadata": {},
   "outputs": [],
   "source": [
    "window_size = study.best_trial.params[\"window_size\"]\n",
    "step_size = study.best_trial.params[\"step_size\"]\n",
    "dropout_rate = study.best_trial.params[\"dropout_rate\"]\n",
    "l2_reg = study.best_trial.params[\"l2_reg\"]\n",
    "\n",
    "train_generator, val_generator, test_generator = create_generators_or_datasets(\n",
    "    y=Y,\n",
    "    window_size=window_size,\n",
    "    step_size=step_size,\n",
    "    batch_size=batch_size,\n",
    "    sample_size=1.0,\n",
    "    sampling_rate=sampling_rate,\n",
    "    data_path=data_path,\n",
    "    return_generators=True,\n",
    ")"
   ]
  },
  {
   "cell_type": "code",
   "execution_count": 14,
   "id": "873f0257-5c41-488a-bc29-889233ded758",
   "metadata": {
    "scrolled": true
   },
   "outputs": [
    {
     "name": "stdout",
     "output_type": "stream",
     "text": [
      "Epoch 1/50\n",
      "\u001b[1m3410/3410\u001b[0m \u001b[32m━━━━━━━━━━━━━━━━━━━━\u001b[0m\u001b[37m\u001b[0m \u001b[1m170s\u001b[0m 49ms/step - accuracy: 0.7686 - auc: 0.8528 - loss: 0.4585 - val_accuracy: 0.8203 - val_auc: 0.9414 - val_loss: 0.4530\n",
      "Epoch 2/50\n",
      "\u001b[1m3410/3410\u001b[0m \u001b[32m━━━━━━━━━━━━━━━━━━━━\u001b[0m\u001b[37m\u001b[0m \u001b[1m192s\u001b[0m 56ms/step - accuracy: 0.8664 - auc: 0.9357 - loss: 0.3232 - val_accuracy: 0.8098 - val_auc: 0.9489 - val_loss: 0.4207\n",
      "Epoch 3/50\n",
      "\u001b[1m3410/3410\u001b[0m \u001b[32m━━━━━━━━━━━━━━━━━━━━\u001b[0m\u001b[37m\u001b[0m \u001b[1m274s\u001b[0m 80ms/step - accuracy: 0.8766 - auc: 0.9440 - loss: 0.3011 - val_accuracy: 0.8831 - val_auc: 0.9533 - val_loss: 0.2758\n",
      "Epoch 4/50\n",
      "\u001b[1m3410/3410\u001b[0m \u001b[32m━━━━━━━━━━━━━━━━━━━━\u001b[0m\u001b[37m\u001b[0m \u001b[1m283s\u001b[0m 83ms/step - accuracy: 0.8853 - auc: 0.9493 - loss: 0.2843 - val_accuracy: 0.8694 - val_auc: 0.9515 - val_loss: 0.3081\n",
      "Epoch 5/50\n",
      "\u001b[1m3410/3410\u001b[0m \u001b[32m━━━━━━━━━━━━━━━━━━━━\u001b[0m\u001b[37m\u001b[0m \u001b[1m260s\u001b[0m 76ms/step - accuracy: 0.8882 - auc: 0.9548 - loss: 0.2713 - val_accuracy: 0.8803 - val_auc: 0.9558 - val_loss: 0.2831\n",
      "Epoch 6/50\n",
      "\u001b[1m3410/3410\u001b[0m \u001b[32m━━━━━━━━━━━━━━━━━━━━\u001b[0m\u001b[37m\u001b[0m \u001b[1m260s\u001b[0m 76ms/step - accuracy: 0.8931 - auc: 0.9557 - loss: 0.2686 - val_accuracy: 0.8861 - val_auc: 0.9572 - val_loss: 0.2703\n",
      "Epoch 7/50\n",
      "\u001b[1m3410/3410\u001b[0m \u001b[32m━━━━━━━━━━━━━━━━━━━━\u001b[0m\u001b[37m\u001b[0m \u001b[1m250s\u001b[0m 73ms/step - accuracy: 0.8936 - auc: 0.9568 - loss: 0.2675 - val_accuracy: 0.8698 - val_auc: 0.9567 - val_loss: 0.3295\n",
      "Epoch 8/50\n",
      "\u001b[1m3410/3410\u001b[0m \u001b[32m━━━━━━━━━━━━━━━━━━━━\u001b[0m\u001b[37m\u001b[0m \u001b[1m262s\u001b[0m 77ms/step - accuracy: 0.8907 - auc: 0.9538 - loss: 0.2775 - val_accuracy: 0.8746 - val_auc: 0.9555 - val_loss: 0.2874\n",
      "Epoch 9/50\n",
      "\u001b[1m3410/3410\u001b[0m \u001b[32m━━━━━━━━━━━━━━━━━━━━\u001b[0m\u001b[37m\u001b[0m \u001b[1m230s\u001b[0m 67ms/step - accuracy: 0.9012 - auc: 0.9608 - loss: 0.2534 - val_accuracy: 0.8580 - val_auc: 0.9583 - val_loss: 0.3342\n",
      "Epoch 10/50\n",
      "\u001b[1m3410/3410\u001b[0m \u001b[32m━━━━━━━━━━━━━━━━━━━━\u001b[0m\u001b[37m\u001b[0m \u001b[1m240s\u001b[0m 70ms/step - accuracy: 0.8964 - auc: 0.9595 - loss: 0.2585 - val_accuracy: 0.8583 - val_auc: 0.9599 - val_loss: 0.3476\n",
      "Epoch 11/50\n",
      "\u001b[1m3410/3410\u001b[0m \u001b[32m━━━━━━━━━━━━━━━━━━━━\u001b[0m\u001b[37m\u001b[0m \u001b[1m278s\u001b[0m 82ms/step - accuracy: 0.8996 - auc: 0.9613 - loss: 0.2511 - val_accuracy: 0.8753 - val_auc: 0.9546 - val_loss: 0.2903\n",
      "\n",
      "Validation set Loss: 0.270, Accuracy: 0.891, AUC: 0.962\n"
     ]
    }
   ],
   "source": [
    "early_stopping = EarlyStopping(monitor=\"val_loss\", patience=5, restore_best_weights=True)\n",
    "ecg_cnn = TimeSeriesCNN(\n",
    "    input_shape=input_shape, window_size=window_size, dropout_rate=dropout_rate, l2_reg=l2_reg, filters=[64, 128, 256]\n",
    ")\n",
    "history = ecg_cnn.train(\n",
    "    train_generator, val_generator, epochs=epochs, batch_size=batch_size, callbacks=[early_stopping]\n",
    ")\n",
    "\n",
    "loss, accuracy, auc, predictions = evaluate_cnn_performance(ecg_cnn, val_generator, y_val)\n",
    "print(f\"\\nValidation set Loss: {loss:.3f}, Accuracy: {accuracy:.3f}, AUC: {auc:.3f}\")"
   ]
  },
  {
   "cell_type": "code",
   "execution_count": 15,
   "id": "df340c2d-47b5-4f04-aa7b-792a57d0ffb2",
   "metadata": {},
   "outputs": [],
   "source": [
    "ecg_cnn.model.save(\"../models/cnn_model.keras\", include_optimizer=False)\n",
    "\n",
    "with open(\"../reports/cnn_history.pkl\", \"wb\") as f:\n",
    "    pickle.dump(history.history, f)"
   ]
  },
  {
   "cell_type": "code",
   "execution_count": 16,
   "id": "c064a6a6-0dc6-4dde-a0ef-cd4db40c8572",
   "metadata": {},
   "outputs": [],
   "source": [
    "loss, accuracy, auc, predictions = evaluate_cnn_performance(ecg_cnn, test_generator, y_test)\n",
    "np.save(\"../results/cnn_preds.npy\", predictions)"
   ]
  },
  {
   "cell_type": "markdown",
   "id": "f38c333d-8a3d-4b1a-ae73-2b091faf59fb",
   "metadata": {},
   "source": [
    "## ResNet"
   ]
  },
  {
   "cell_type": "markdown",
   "id": "8892bcda-10d4-4a08-be26-bb87ba9dcd9e",
   "metadata": {},
   "source": [
    "I chose to compare the CNN with a ResNet model because ResNet's residual connections allow it to capture complex patterns and long-range dependencies in ECG data, which a standard CNN might miss. Unlike the CNN, ResNet mitigates the vanishing gradient problem, making it more effective at learning deep features. Additionally, the global feature aggregation layer in ResNet enhances generalization, improving its ability to consistently detect important patterns across various ECG signals."
   ]
  },
  {
   "cell_type": "code",
   "execution_count": 17,
   "id": "6c9b42c8-761b-4d53-96ab-aca89f9ae072",
   "metadata": {
    "scrolled": true
   },
   "outputs": [
    {
     "name": "stdout",
     "output_type": "stream",
     "text": [
      "Epoch 1/50\n",
      "\u001b[1m154/154\u001b[0m \u001b[32m━━━━━━━━━━━━━━━━━━━━\u001b[0m\u001b[37m\u001b[0m \u001b[1m141s\u001b[0m 860ms/step - accuracy: 0.8095 - auc: 0.8861 - loss: 0.4180 - val_accuracy: 0.5430 - val_auc: 0.8560 - val_loss: 0.8135\n",
      "Epoch 2/50\n",
      "\u001b[1m154/154\u001b[0m \u001b[32m━━━━━━━━━━━━━━━━━━━━\u001b[0m\u001b[37m\u001b[0m \u001b[1m125s\u001b[0m 813ms/step - accuracy: 0.8747 - auc: 0.9481 - loss: 0.2885 - val_accuracy: 0.8659 - val_auc: 0.9482 - val_loss: 0.3181\n",
      "Epoch 3/50\n",
      "\u001b[1m154/154\u001b[0m \u001b[32m━━━━━━━━━━━━━━━━━━━━\u001b[0m\u001b[37m\u001b[0m \u001b[1m137s\u001b[0m 893ms/step - accuracy: 0.8842 - auc: 0.9524 - loss: 0.2775 - val_accuracy: 0.8510 - val_auc: 0.9581 - val_loss: 0.3401\n",
      "Epoch 4/50\n",
      "\u001b[1m154/154\u001b[0m \u001b[32m━━━━━━━━━━━━━━━━━━━━\u001b[0m\u001b[37m\u001b[0m \u001b[1m162s\u001b[0m 1s/step - accuracy: 0.8990 - auc: 0.9599 - loss: 0.2544 - val_accuracy: 0.8642 - val_auc: 0.9549 - val_loss: 0.2991\n",
      "Epoch 5/50\n",
      "\u001b[1m154/154\u001b[0m \u001b[32m━━━━━━━━━━━━━━━━━━━━\u001b[0m\u001b[37m\u001b[0m \u001b[1m124s\u001b[0m 804ms/step - accuracy: 0.9038 - auc: 0.9647 - loss: 0.2372 - val_accuracy: 0.8858 - val_auc: 0.9584 - val_loss: 0.2819\n",
      "Epoch 6/50\n",
      "\u001b[1m154/154\u001b[0m \u001b[32m━━━━━━━━━━━━━━━━━━━━\u001b[0m\u001b[37m\u001b[0m \u001b[1m151s\u001b[0m 979ms/step - accuracy: 0.8942 - auc: 0.9594 - loss: 0.2580 - val_accuracy: 0.9007 - val_auc: 0.9569 - val_loss: 0.2668\n",
      "Epoch 7/50\n",
      "\u001b[1m154/154\u001b[0m \u001b[32m━━━━━━━━━━━━━━━━━━━━\u001b[0m\u001b[37m\u001b[0m \u001b[1m130s\u001b[0m 847ms/step - accuracy: 0.9144 - auc: 0.9722 - loss: 0.2112 - val_accuracy: 0.8841 - val_auc: 0.9552 - val_loss: 0.2955\n",
      "Epoch 8/50\n",
      "\u001b[1m154/154\u001b[0m \u001b[32m━━━━━━━━━━━━━━━━━━━━\u001b[0m\u001b[37m\u001b[0m \u001b[1m146s\u001b[0m 944ms/step - accuracy: 0.9084 - auc: 0.9698 - loss: 0.2186 - val_accuracy: 0.8493 - val_auc: 0.9490 - val_loss: 0.4070\n",
      "Epoch 9/50\n",
      "\u001b[1m154/154\u001b[0m \u001b[32m━━━━━━━━━━━━━━━━━━━━\u001b[0m\u001b[37m\u001b[0m \u001b[1m156s\u001b[0m 1s/step - accuracy: 0.9193 - auc: 0.9731 - loss: 0.2059 - val_accuracy: 0.8725 - val_auc: 0.9570 - val_loss: 0.2927\n",
      "Epoch 10/50\n",
      "\u001b[1m154/154\u001b[0m \u001b[32m━━━━━━━━━━━━━━━━━━━━\u001b[0m\u001b[37m\u001b[0m \u001b[1m144s\u001b[0m 935ms/step - accuracy: 0.9170 - auc: 0.9716 - loss: 0.2126 - val_accuracy: 0.8825 - val_auc: 0.9533 - val_loss: 0.2770\n",
      "Epoch 11/50\n",
      "\u001b[1m154/154\u001b[0m \u001b[32m━━━━━━━━━━━━━━━━━━━━\u001b[0m\u001b[37m\u001b[0m \u001b[1m138s\u001b[0m 898ms/step - accuracy: 0.9238 - auc: 0.9783 - loss: 0.1847 - val_accuracy: 0.8825 - val_auc: 0.9606 - val_loss: 0.3132\n",
      "\n",
      "Validation set Loss: 0.267, Accuracy: 0.901, AUC: 0.957\n"
     ]
    }
   ],
   "source": [
    "early_stopping = EarlyStopping(monitor=\"val_loss\", patience=5, restore_best_weights=True)\n",
    "resnet = ECGResNet(input_shape=input_shape, num_classes=num_classes, l2_reg=0.0, dropout_rate=0.0)\n",
    "resnet_history = resnet.train(\n",
    "    X_train, y_train, X_val, y_val, epochs=epochs, batch_size=batch_size, callbacks=[early_stopping]\n",
    ")\n",
    "\n",
    "loss, accuracy, auc, predictions = evaluate_resnet_performance(resnet, X_val, y_val)\n",
    "print(f\"\\nValidation set Loss: {loss:.3f}, Accuracy: {accuracy:.3f}, AUC: {auc:.3f}\")"
   ]
  },
  {
   "cell_type": "markdown",
   "id": "6f8089b1-a0f6-4577-ae6a-dc0f420bb0b0",
   "metadata": {},
   "source": [
    "### Approaching overfitting \n",
    "\n",
    "Overfitting can be observed here as well. Given that it takes a long time to perform a full parameter search and that current performance nears CNN performance on validation set loss, I will focus on a few tries on the dropout rate and l2 regularization parameters."
   ]
  },
  {
   "cell_type": "code",
   "execution_count": 18,
   "id": "cca7de82-6b5a-40d1-acce-4d8b7b7a523e",
   "metadata": {
    "scrolled": true
   },
   "outputs": [
    {
     "name": "stdout",
     "output_type": "stream",
     "text": [
      "Epoch 1/50\n",
      "\u001b[1m154/154\u001b[0m \u001b[32m━━━━━━━━━━━━━━━━━━━━\u001b[0m\u001b[37m\u001b[0m \u001b[1m173s\u001b[0m 1s/step - accuracy: 0.7991 - auc: 0.8778 - loss: 0.4266 - val_accuracy: 0.8096 - val_auc: 0.8983 - val_loss: 0.4757\n",
      "Epoch 2/50\n",
      "\u001b[1m154/154\u001b[0m \u001b[32m━━━━━━━━━━━━━━━━━━━━\u001b[0m\u001b[37m\u001b[0m \u001b[1m154s\u001b[0m 999ms/step - accuracy: 0.8679 - auc: 0.9443 - loss: 0.3002 - val_accuracy: 0.8725 - val_auc: 0.9473 - val_loss: 0.3824\n",
      "Epoch 3/50\n",
      "\u001b[1m154/154\u001b[0m \u001b[32m━━━━━━━━━━━━━━━━━━━━\u001b[0m\u001b[37m\u001b[0m \u001b[1m112s\u001b[0m 729ms/step - accuracy: 0.8800 - auc: 0.9472 - loss: 0.2898 - val_accuracy: 0.8411 - val_auc: 0.9432 - val_loss: 0.3502\n",
      "Epoch 4/50\n",
      "\u001b[1m154/154\u001b[0m \u001b[32m━━━━━━━━━━━━━━━━━━━━\u001b[0m\u001b[37m\u001b[0m \u001b[1m153s\u001b[0m 998ms/step - accuracy: 0.8994 - auc: 0.9588 - loss: 0.2555 - val_accuracy: 0.8841 - val_auc: 0.9592 - val_loss: 0.2714\n",
      "Epoch 5/50\n",
      "\u001b[1m154/154\u001b[0m \u001b[32m━━━━━━━━━━━━━━━━━━━━\u001b[0m\u001b[37m\u001b[0m \u001b[1m141s\u001b[0m 913ms/step - accuracy: 0.8902 - auc: 0.9595 - loss: 0.2557 - val_accuracy: 0.8725 - val_auc: 0.9615 - val_loss: 0.2729\n",
      "Epoch 6/50\n",
      "\u001b[1m154/154\u001b[0m \u001b[32m━━━━━━━━━━━━━━━━━━━━\u001b[0m\u001b[37m\u001b[0m \u001b[1m153s\u001b[0m 991ms/step - accuracy: 0.9109 - auc: 0.9689 - loss: 0.2273 - val_accuracy: 0.8924 - val_auc: 0.9603 - val_loss: 0.2637\n",
      "Epoch 7/50\n",
      "\u001b[1m154/154\u001b[0m \u001b[32m━━━━━━━━━━━━━━━━━━━━\u001b[0m\u001b[37m\u001b[0m \u001b[1m140s\u001b[0m 903ms/step - accuracy: 0.9025 - auc: 0.9661 - loss: 0.2335 - val_accuracy: 0.9007 - val_auc: 0.9612 - val_loss: 0.2655\n",
      "Epoch 8/50\n",
      "\u001b[1m154/154\u001b[0m \u001b[32m━━━━━━━━━━━━━━━━━━━━\u001b[0m\u001b[37m\u001b[0m \u001b[1m143s\u001b[0m 930ms/step - accuracy: 0.9175 - auc: 0.9737 - loss: 0.2068 - val_accuracy: 0.8510 - val_auc: 0.9521 - val_loss: 0.3768\n",
      "Epoch 9/50\n",
      "\u001b[1m154/154\u001b[0m \u001b[32m━━━━━━━━━━━━━━━━━━━━\u001b[0m\u001b[37m\u001b[0m \u001b[1m133s\u001b[0m 861ms/step - accuracy: 0.9122 - auc: 0.9708 - loss: 0.2183 - val_accuracy: 0.8725 - val_auc: 0.9578 - val_loss: 0.3020\n",
      "Epoch 10/50\n",
      "\u001b[1m154/154\u001b[0m \u001b[32m━━━━━━━━━━━━━━━━━━━━\u001b[0m\u001b[37m\u001b[0m \u001b[1m135s\u001b[0m 874ms/step - accuracy: 0.9170 - auc: 0.9751 - loss: 0.1992 - val_accuracy: 0.8907 - val_auc: 0.9615 - val_loss: 0.2485\n",
      "Epoch 11/50\n",
      "\u001b[1m154/154\u001b[0m \u001b[32m━━━━━━━━━━━━━━━━━━━━\u001b[0m\u001b[37m\u001b[0m \u001b[1m123s\u001b[0m 800ms/step - accuracy: 0.9150 - auc: 0.9736 - loss: 0.2047 - val_accuracy: 0.8825 - val_auc: 0.9603 - val_loss: 0.2743\n",
      "Epoch 12/50\n",
      "\u001b[1m154/154\u001b[0m \u001b[32m━━━━━━━━━━━━━━━━━━━━\u001b[0m\u001b[37m\u001b[0m \u001b[1m115s\u001b[0m 744ms/step - accuracy: 0.9242 - auc: 0.9765 - loss: 0.1938 - val_accuracy: 0.8642 - val_auc: 0.9570 - val_loss: 0.3483\n",
      "Epoch 13/50\n",
      "\u001b[1m154/154\u001b[0m \u001b[32m━━━━━━━━━━━━━━━━━━━━\u001b[0m\u001b[37m\u001b[0m \u001b[1m132s\u001b[0m 858ms/step - accuracy: 0.9191 - auc: 0.9777 - loss: 0.1890 - val_accuracy: 0.8891 - val_auc: 0.9625 - val_loss: 0.3102\n",
      "Epoch 14/50\n",
      "\u001b[1m154/154\u001b[0m \u001b[32m━━━━━━━━━━━━━━━━━━━━\u001b[0m\u001b[37m\u001b[0m \u001b[1m103s\u001b[0m 668ms/step - accuracy: 0.9332 - auc: 0.9796 - loss: 0.1759 - val_accuracy: 0.8940 - val_auc: 0.9604 - val_loss: 0.2870\n",
      "Epoch 15/50\n",
      "\u001b[1m154/154\u001b[0m \u001b[32m━━━━━━━━━━━━━━━━━━━━\u001b[0m\u001b[37m\u001b[0m \u001b[1m132s\u001b[0m 857ms/step - accuracy: 0.9326 - auc: 0.9825 - loss: 0.1665 - val_accuracy: 0.8907 - val_auc: 0.9605 - val_loss: 0.2879\n",
      "\n",
      "Validation set Loss: 0.249, Accuracy: 0.891, AUC: 0.962\n"
     ]
    }
   ],
   "source": [
    "early_stopping = EarlyStopping(monitor=\"val_loss\", patience=5, restore_best_weights=True)\n",
    "resnet = ECGResNet(input_shape=input_shape, num_classes=num_classes, l2_reg=0.0, dropout_rate=0.3)\n",
    "resnet_history = resnet.train(\n",
    "    X_train, y_train, X_val, y_val, epochs=epochs, batch_size=batch_size, callbacks=[early_stopping]\n",
    ")\n",
    "\n",
    "loss, accuracy, auc, predictions = evaluate_resnet_performance(resnet, X_val, y_val)\n",
    "print(f\"\\nValidation set Loss: {loss:.3f}, Accuracy: {accuracy:.3f}, AUC: {auc:.3f}\")"
   ]
  },
  {
   "cell_type": "code",
   "execution_count": 19,
   "id": "db88bf99-a79d-4fac-ad8f-24b206fdddce",
   "metadata": {
    "scrolled": true
   },
   "outputs": [
    {
     "name": "stdout",
     "output_type": "stream",
     "text": [
      "Epoch 1/50\n",
      "\u001b[1m154/154\u001b[0m \u001b[32m━━━━━━━━━━━━━━━━━━━━\u001b[0m\u001b[37m\u001b[0m \u001b[1m129s\u001b[0m 775ms/step - accuracy: 0.8050 - auc: 0.8911 - loss: 1.2017 - val_accuracy: 0.5430 - val_auc: 0.8058 - val_loss: 1.4148\n",
      "Epoch 2/50\n",
      "\u001b[1m154/154\u001b[0m \u001b[32m━━━━━━━━━━━━━━━━━━━━\u001b[0m\u001b[37m\u001b[0m \u001b[1m131s\u001b[0m 851ms/step - accuracy: 0.8704 - auc: 0.9408 - loss: 0.7280 - val_accuracy: 0.6258 - val_auc: 0.8819 - val_loss: 1.0400\n",
      "Epoch 3/50\n",
      "\u001b[1m154/154\u001b[0m \u001b[32m━━━━━━━━━━━━━━━━━━━━\u001b[0m\u001b[37m\u001b[0m \u001b[1m146s\u001b[0m 944ms/step - accuracy: 0.8703 - auc: 0.9411 - loss: 0.5771 - val_accuracy: 0.8560 - val_auc: 0.9533 - val_loss: 0.5784\n",
      "Epoch 4/50\n",
      "\u001b[1m154/154\u001b[0m \u001b[32m━━━━━━━━━━━━━━━━━━━━\u001b[0m\u001b[37m\u001b[0m \u001b[1m126s\u001b[0m 819ms/step - accuracy: 0.8753 - auc: 0.9535 - loss: 0.4741 - val_accuracy: 0.8377 - val_auc: 0.9569 - val_loss: 0.4962\n",
      "Epoch 5/50\n",
      "\u001b[1m154/154\u001b[0m \u001b[32m━━━━━━━━━━━━━━━━━━━━\u001b[0m\u001b[37m\u001b[0m \u001b[1m162s\u001b[0m 1s/step - accuracy: 0.8953 - auc: 0.9588 - loss: 0.4139 - val_accuracy: 0.9007 - val_auc: 0.9618 - val_loss: 0.3793\n",
      "Epoch 6/50\n",
      "\u001b[1m154/154\u001b[0m \u001b[32m━━━━━━━━━━━━━━━━━━━━\u001b[0m\u001b[37m\u001b[0m \u001b[1m152s\u001b[0m 986ms/step - accuracy: 0.9006 - auc: 0.9633 - loss: 0.3697 - val_accuracy: 0.8957 - val_auc: 0.9612 - val_loss: 0.3701\n",
      "Epoch 7/50\n",
      "\u001b[1m154/154\u001b[0m \u001b[32m━━━━━━━━━━━━━━━━━━━━\u001b[0m\u001b[37m\u001b[0m \u001b[1m133s\u001b[0m 865ms/step - accuracy: 0.9010 - auc: 0.9619 - loss: 0.3555 - val_accuracy: 0.9007 - val_auc: 0.9587 - val_loss: 0.3551\n",
      "Epoch 8/50\n",
      "\u001b[1m154/154\u001b[0m \u001b[32m━━━━━━━━━━━━━━━━━━━━\u001b[0m\u001b[37m\u001b[0m \u001b[1m119s\u001b[0m 770ms/step - accuracy: 0.8915 - auc: 0.9627 - loss: 0.3480 - val_accuracy: 0.8924 - val_auc: 0.9575 - val_loss: 0.3532\n",
      "Epoch 9/50\n",
      "\u001b[1m154/154\u001b[0m \u001b[32m━━━━━━━━━━━━━━━━━━━━\u001b[0m\u001b[37m\u001b[0m \u001b[1m125s\u001b[0m 811ms/step - accuracy: 0.9025 - auc: 0.9654 - loss: 0.3196 - val_accuracy: 0.8775 - val_auc: 0.9534 - val_loss: 0.3576\n",
      "Epoch 10/50\n",
      "\u001b[1m154/154\u001b[0m \u001b[32m━━━━━━━━━━━━━━━━━━━━\u001b[0m\u001b[37m\u001b[0m \u001b[1m140s\u001b[0m 911ms/step - accuracy: 0.8946 - auc: 0.9571 - loss: 0.3357 - val_accuracy: 0.8825 - val_auc: 0.9586 - val_loss: 0.3301\n",
      "Epoch 11/50\n",
      "\u001b[1m154/154\u001b[0m \u001b[32m━━━━━━━━━━━━━━━━━━━━\u001b[0m\u001b[37m\u001b[0m \u001b[1m123s\u001b[0m 793ms/step - accuracy: 0.9114 - auc: 0.9701 - loss: 0.2861 - val_accuracy: 0.8858 - val_auc: 0.9578 - val_loss: 0.3307\n",
      "Epoch 12/50\n",
      "\u001b[1m154/154\u001b[0m \u001b[32m━━━━━━━━━━━━━━━━━━━━\u001b[0m\u001b[37m\u001b[0m \u001b[1m117s\u001b[0m 759ms/step - accuracy: 0.9057 - auc: 0.9692 - loss: 0.2848 - val_accuracy: 0.8907 - val_auc: 0.9583 - val_loss: 0.3229\n",
      "Epoch 13/50\n",
      "\u001b[1m154/154\u001b[0m \u001b[32m━━━━━━━━━━━━━━━━━━━━\u001b[0m\u001b[37m\u001b[0m \u001b[1m121s\u001b[0m 786ms/step - accuracy: 0.9057 - auc: 0.9709 - loss: 0.2782 - val_accuracy: 0.8907 - val_auc: 0.9544 - val_loss: 0.3284\n",
      "Epoch 14/50\n",
      "\u001b[1m154/154\u001b[0m \u001b[32m━━━━━━━━━━━━━━━━━━━━\u001b[0m\u001b[37m\u001b[0m \u001b[1m108s\u001b[0m 701ms/step - accuracy: 0.9038 - auc: 0.9672 - loss: 0.2889 - val_accuracy: 0.8891 - val_auc: 0.9577 - val_loss: 0.3177\n",
      "Epoch 15/50\n",
      "\u001b[1m154/154\u001b[0m \u001b[32m━━━━━━━━━━━━━━━━━━━━\u001b[0m\u001b[37m\u001b[0m \u001b[1m107s\u001b[0m 693ms/step - accuracy: 0.9140 - auc: 0.9726 - loss: 0.2627 - val_accuracy: 0.8427 - val_auc: 0.9522 - val_loss: 0.4091\n",
      "Epoch 16/50\n",
      "\u001b[1m154/154\u001b[0m \u001b[32m━━━━━━━━━━━━━━━━━━━━\u001b[0m\u001b[37m\u001b[0m \u001b[1m106s\u001b[0m 691ms/step - accuracy: 0.9119 - auc: 0.9703 - loss: 0.2735 - val_accuracy: 0.8957 - val_auc: 0.9565 - val_loss: 0.3246\n",
      "Epoch 17/50\n",
      "\u001b[1m154/154\u001b[0m \u001b[32m━━━━━━━━━━━━━━━━━━━━\u001b[0m\u001b[37m\u001b[0m \u001b[1m111s\u001b[0m 718ms/step - accuracy: 0.9273 - auc: 0.9781 - loss: 0.2350 - val_accuracy: 0.9023 - val_auc: 0.9617 - val_loss: 0.2964\n",
      "Epoch 18/50\n",
      "\u001b[1m154/154\u001b[0m \u001b[32m━━━━━━━━━━━━━━━━━━━━\u001b[0m\u001b[37m\u001b[0m \u001b[1m108s\u001b[0m 704ms/step - accuracy: 0.9227 - auc: 0.9751 - loss: 0.2482 - val_accuracy: 0.8791 - val_auc: 0.9634 - val_loss: 0.3063\n",
      "Epoch 19/50\n",
      "\u001b[1m154/154\u001b[0m \u001b[32m━━━━━━━━━━━━━━━━━━━━\u001b[0m\u001b[37m\u001b[0m \u001b[1m113s\u001b[0m 732ms/step - accuracy: 0.9154 - auc: 0.9735 - loss: 0.2581 - val_accuracy: 0.8758 - val_auc: 0.9568 - val_loss: 0.3159\n",
      "Epoch 20/50\n",
      "\u001b[1m154/154\u001b[0m \u001b[32m━━━━━━━━━━━━━━━━━━━━\u001b[0m\u001b[37m\u001b[0m \u001b[1m106s\u001b[0m 685ms/step - accuracy: 0.8991 - auc: 0.9649 - loss: 0.2993 - val_accuracy: 0.8775 - val_auc: 0.9520 - val_loss: 0.3467\n",
      "Epoch 21/50\n",
      "\u001b[1m154/154\u001b[0m \u001b[32m━━━━━━━━━━━━━━━━━━━━\u001b[0m\u001b[37m\u001b[0m \u001b[1m107s\u001b[0m 697ms/step - accuracy: 0.9210 - auc: 0.9786 - loss: 0.2351 - val_accuracy: 0.8940 - val_auc: 0.9577 - val_loss: 0.3244\n",
      "Epoch 22/50\n",
      "\u001b[1m154/154\u001b[0m \u001b[32m━━━━━━━━━━━━━━━━━━━━\u001b[0m\u001b[37m\u001b[0m \u001b[1m180s\u001b[0m 1s/step - accuracy: 0.9126 - auc: 0.9734 - loss: 0.2570 - val_accuracy: 0.8858 - val_auc: 0.9558 - val_loss: 0.3223\n",
      "\n",
      "Validation set Loss: 0.296, Accuracy: 0.902, AUC: 0.962\n"
     ]
    }
   ],
   "source": [
    "early_stopping = EarlyStopping(monitor=\"val_loss\", patience=5, restore_best_weights=True)\n",
    "resnet = ECGResNet(input_shape=input_shape, num_classes=num_classes, l2_reg=0.001, dropout_rate=0.0)\n",
    "resnet_history = resnet.train(\n",
    "    X_train, y_train, X_val, y_val, epochs=epochs, batch_size=batch_size, callbacks=[early_stopping]\n",
    ")\n",
    "\n",
    "loss, accuracy, auc, predictions = evaluate_resnet_performance(resnet, X_val, y_val)\n",
    "print(f\"\\nValidation set Loss: {loss:.3f}, Accuracy: {accuracy:.3f}, AUC: {auc:.3f}\")"
   ]
  },
  {
   "cell_type": "markdown",
   "id": "ea8fd21c-8340-4de4-9dbf-ff059d7a8b0f",
   "metadata": {},
   "source": [
    "### Final Model \n",
    "Let's train the optimal model on all of the data."
   ]
  },
  {
   "cell_type": "code",
   "execution_count": 20,
   "id": "c405db4e-064e-4d13-b7db-7a7ac6a20b82",
   "metadata": {},
   "outputs": [],
   "source": [
    "X_train, y_train, X_val, y_val, X_test, y_test = create_generators_or_datasets(\n",
    "    y=Y,\n",
    "    window_size=None,\n",
    "    step_size=None,\n",
    "    batch_size=batch_size,\n",
    "    sample_size=1.0,\n",
    "    sampling_rate=sampling_rate,\n",
    "    data_path=data_path,\n",
    "    return_generators=False,\n",
    ")"
   ]
  },
  {
   "cell_type": "code",
   "execution_count": 21,
   "id": "bf9a8d74-e2bd-4c9c-879d-daaac42ec57b",
   "metadata": {
    "scrolled": true
   },
   "outputs": [
    {
     "name": "stdout",
     "output_type": "stream",
     "text": [
      "Epoch 1/50\n",
      "\u001b[1m310/310\u001b[0m \u001b[32m━━━━━━━━━━━━━━━━━━━━\u001b[0m\u001b[37m\u001b[0m \u001b[1m217s\u001b[0m 680ms/step - accuracy: 0.8228 - auc: 0.9001 - loss: 0.3905 - val_accuracy: 0.8100 - val_auc: 0.9391 - val_loss: 0.4179\n",
      "Epoch 2/50\n",
      "\u001b[1m310/310\u001b[0m \u001b[32m━━━━━━━━━━━━━━━━━━━━\u001b[0m\u001b[37m\u001b[0m \u001b[1m211s\u001b[0m 680ms/step - accuracy: 0.8801 - auc: 0.9497 - loss: 0.2841 - val_accuracy: 0.8594 - val_auc: 0.9552 - val_loss: 0.3119\n",
      "Epoch 3/50\n",
      "\u001b[1m310/310\u001b[0m \u001b[32m━━━━━━━━━━━━━━━━━━━━\u001b[0m\u001b[37m\u001b[0m \u001b[1m214s\u001b[0m 689ms/step - accuracy: 0.8993 - auc: 0.9608 - loss: 0.2506 - val_accuracy: 0.8745 - val_auc: 0.9572 - val_loss: 0.2934\n",
      "Epoch 4/50\n",
      "\u001b[1m310/310\u001b[0m \u001b[32m━━━━━━━━━━━━━━━━━━━━\u001b[0m\u001b[37m\u001b[0m \u001b[1m215s\u001b[0m 692ms/step - accuracy: 0.8976 - auc: 0.9614 - loss: 0.2482 - val_accuracy: 0.8987 - val_auc: 0.9635 - val_loss: 0.2461\n",
      "Epoch 5/50\n",
      "\u001b[1m310/310\u001b[0m \u001b[32m━━━━━━━━━━━━━━━━━━━━\u001b[0m\u001b[37m\u001b[0m \u001b[1m217s\u001b[0m 699ms/step - accuracy: 0.9077 - auc: 0.9669 - loss: 0.2303 - val_accuracy: 0.8820 - val_auc: 0.9635 - val_loss: 0.2754\n",
      "Epoch 6/50\n",
      "\u001b[1m310/310\u001b[0m \u001b[32m━━━━━━━━━━━━━━━━━━━━\u001b[0m\u001b[37m\u001b[0m \u001b[1m219s\u001b[0m 706ms/step - accuracy: 0.9055 - auc: 0.9662 - loss: 0.2312 - val_accuracy: 0.8962 - val_auc: 0.9659 - val_loss: 0.2518\n",
      "Epoch 7/50\n",
      "\u001b[1m310/310\u001b[0m \u001b[32m━━━━━━━━━━━━━━━━━━━━\u001b[0m\u001b[37m\u001b[0m \u001b[1m215s\u001b[0m 694ms/step - accuracy: 0.9092 - auc: 0.9712 - loss: 0.2137 - val_accuracy: 0.8971 - val_auc: 0.9636 - val_loss: 0.2428\n",
      "Epoch 8/50\n",
      "\u001b[1m310/310\u001b[0m \u001b[32m━━━━━━━━━━━━━━━━━━━━\u001b[0m\u001b[37m\u001b[0m \u001b[1m219s\u001b[0m 707ms/step - accuracy: 0.9209 - auc: 0.9745 - loss: 0.2004 - val_accuracy: 0.8854 - val_auc: 0.9666 - val_loss: 0.2877\n",
      "Epoch 9/50\n",
      "\u001b[1m310/310\u001b[0m \u001b[32m━━━━━━━━━━━━━━━━━━━━\u001b[0m\u001b[37m\u001b[0m \u001b[1m225s\u001b[0m 725ms/step - accuracy: 0.9138 - auc: 0.9736 - loss: 0.2048 - val_accuracy: 0.9063 - val_auc: 0.9665 - val_loss: 0.2356\n",
      "Epoch 10/50\n",
      "\u001b[1m310/310\u001b[0m \u001b[32m━━━━━━━━━━━━━━━━━━━━\u001b[0m\u001b[37m\u001b[0m \u001b[1m218s\u001b[0m 704ms/step - accuracy: 0.9168 - auc: 0.9747 - loss: 0.2014 - val_accuracy: 0.9046 - val_auc: 0.9658 - val_loss: 0.2370\n",
      "Epoch 11/50\n",
      "\u001b[1m310/310\u001b[0m \u001b[32m━━━━━━━━━━━━━━━━━━━━\u001b[0m\u001b[37m\u001b[0m \u001b[1m232s\u001b[0m 748ms/step - accuracy: 0.9205 - auc: 0.9773 - loss: 0.1904 - val_accuracy: 0.9004 - val_auc: 0.9636 - val_loss: 0.2728\n",
      "Epoch 12/50\n",
      "\u001b[1m310/310\u001b[0m \u001b[32m━━━━━━━━━━━━━━━━━━━━\u001b[0m\u001b[37m\u001b[0m \u001b[1m225s\u001b[0m 726ms/step - accuracy: 0.9207 - auc: 0.9770 - loss: 0.1919 - val_accuracy: 0.8837 - val_auc: 0.9629 - val_loss: 0.2861\n",
      "Epoch 13/50\n",
      "\u001b[1m310/310\u001b[0m \u001b[32m━━━━━━━━━━━━━━━━━━━━\u001b[0m\u001b[37m\u001b[0m \u001b[1m221s\u001b[0m 714ms/step - accuracy: 0.9264 - auc: 0.9794 - loss: 0.1816 - val_accuracy: 0.8987 - val_auc: 0.9634 - val_loss: 0.2510\n",
      "Epoch 14/50\n",
      "\u001b[1m310/310\u001b[0m \u001b[32m━━━━━━━━━━━━━━━━━━━━\u001b[0m\u001b[37m\u001b[0m \u001b[1m223s\u001b[0m 721ms/step - accuracy: 0.9289 - auc: 0.9796 - loss: 0.1794 - val_accuracy: 0.8837 - val_auc: 0.9595 - val_loss: 0.3208\n",
      "\n",
      "Validation set Loss: 0.236, Accuracy: 0.906, AUC: 0.967\n"
     ]
    }
   ],
   "source": [
    "early_stopping = EarlyStopping(monitor=\"val_loss\", patience=5, restore_best_weights=True)\n",
    "ecg_resnet = ECGResNet(input_shape=input_shape, num_classes=num_classes, l2_reg=0.0, dropout_rate=0.3)\n",
    "resnet_history = ecg_resnet.train(\n",
    "    X_train, y_train, X_val, y_val, epochs=epochs, batch_size=batch_size, callbacks=[early_stopping]\n",
    ")\n",
    "\n",
    "loss, accuracy, auc, predictions = evaluate_resnet_performance(ecg_resnet, X_val, y_val)\n",
    "print(f\"\\nValidation set Loss: {loss:.3f}, Accuracy: {accuracy:.3f}, AUC: {auc:.3f}\")"
   ]
  },
  {
   "cell_type": "code",
   "execution_count": 22,
   "id": "b8e929b9-6a4d-4788-9286-14f26f04c40e",
   "metadata": {},
   "outputs": [],
   "source": [
    "ecg_resnet.model.save(\"../models/resnet_model.keras\", include_optimizer=False)\n",
    "\n",
    "with open(\"../reports/resnet_history.pkl\", \"wb\") as f:\n",
    "    pickle.dump(resnet_history.history, f)"
   ]
  },
  {
   "cell_type": "code",
   "execution_count": 23,
   "id": "a704f83b-2c0c-4489-b00e-25d6f309f712",
   "metadata": {},
   "outputs": [],
   "source": [
    "loss, accuracy, auc, predictions = evaluate_resnet_performance(ecg_resnet, X_test, y_test)\n",
    "np.save(\"../results/resnet_preds.npy\", predictions)"
   ]
  }
 ],
 "metadata": {
  "kernelspec": {
   "display_name": "Python 3 (ipykernel)",
   "language": "python",
   "name": "python3"
  },
  "language_info": {
   "codemirror_mode": {
    "name": "ipython",
    "version": 3
   },
   "file_extension": ".py",
   "mimetype": "text/x-python",
   "name": "python",
   "nbconvert_exporter": "python",
   "pygments_lexer": "ipython3",
   "version": "3.9.7"
  }
 },
 "nbformat": 4,
 "nbformat_minor": 5
}
